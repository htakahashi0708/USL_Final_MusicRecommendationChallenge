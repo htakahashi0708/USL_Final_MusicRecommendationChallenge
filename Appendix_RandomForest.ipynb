{
 "cells": [
  {
   "cell_type": "markdown",
   "id": "11c70c84",
   "metadata": {},
   "source": [
    "# 1. Purpose\n",
    "\n",
    "This is an additional notebook of Music Recommender by RandomForest Classifier. RandomForest uses **the same features** as the main report (Hybrid Recommender)."
   ]
  },
  {
   "cell_type": "markdown",
   "id": "e905a690",
   "metadata": {},
   "source": [
    "# 2. Data"
   ]
  },
  {
   "cell_type": "markdown",
   "id": "56397735",
   "metadata": {},
   "source": [
    "There are four data in this project. train and test data which consists of user-item and its rating (train only). In addition, feature of item ans users are also provided. \n",
    "\n",
    "**Data Source**\n",
    "\n",
    "https://www.kaggle.com/competitions/kkbox-music-recommendation-challenge/data"
   ]
  },
  {
   "cell_type": "code",
   "execution_count": 1,
   "id": "3d7eb8c1",
   "metadata": {},
   "outputs": [],
   "source": [
    "import numpy as np\n",
    "import pandas as pd\n",
    "import matplotlib.pyplot as plt\n",
    "import seaborn as sns\n",
    "import math\n",
    "import os\n",
    "from surprise import Dataset, Reader, SVD, KNNWithMeans, KNNBaseline\n",
    "from sklearn import metrics\n",
    "import time"
   ]
  },
  {
   "cell_type": "code",
   "execution_count": 2,
   "id": "f1392df7",
   "metadata": {},
   "outputs": [],
   "source": [
    "sns.set_context(\"notebook\")"
   ]
  },
  {
   "cell_type": "markdown",
   "id": "67219cc9",
   "metadata": {},
   "source": [
    "**train data**\n",
    "\n",
    "Train data consists of `userID`, `itemID` and `rating`. In addition, `source_system_tab` (where a user played song) is indicated. `source_system_tab` is the most important feature (refer to chapter 4.). "
   ]
  },
  {
   "cell_type": "code",
   "execution_count": 3,
   "id": "aeabf685",
   "metadata": {},
   "outputs": [],
   "source": [
    "train_df = pd.read_parquet(\"data_p1/train_p1.parquet\")"
   ]
  },
  {
   "cell_type": "code",
   "execution_count": 4,
   "id": "8528b061",
   "metadata": {},
   "outputs": [
    {
     "name": "stdout",
     "output_type": "stream",
     "text": [
      "train data size (7377418, 6)\n"
     ]
    }
   ],
   "source": [
    "n_train = train_df.shape[0]\n",
    "print(\"train data size\", train_df.shape)"
   ]
  },
  {
   "cell_type": "code",
   "execution_count": 5,
   "id": "4cdf696e",
   "metadata": {},
   "outputs": [
    {
     "data": {
      "text/html": [
       "<div>\n",
       "<style scoped>\n",
       "    .dataframe tbody tr th:only-of-type {\n",
       "        vertical-align: middle;\n",
       "    }\n",
       "\n",
       "    .dataframe tbody tr th {\n",
       "        vertical-align: top;\n",
       "    }\n",
       "\n",
       "    .dataframe thead th {\n",
       "        text-align: right;\n",
       "    }\n",
       "</style>\n",
       "<table border=\"1\" class=\"dataframe\">\n",
       "  <thead>\n",
       "    <tr style=\"text-align: right;\">\n",
       "      <th></th>\n",
       "      <th>source_system_tab</th>\n",
       "      <th>userID</th>\n",
       "      <th>itemID</th>\n",
       "      <th>rating</th>\n",
       "    </tr>\n",
       "  </thead>\n",
       "  <tbody>\n",
       "    <tr>\n",
       "      <th>0</th>\n",
       "      <td>explore</td>\n",
       "      <td>21893</td>\n",
       "      <td>335731</td>\n",
       "      <td>1</td>\n",
       "    </tr>\n",
       "    <tr>\n",
       "      <th>1</th>\n",
       "      <td>my library</td>\n",
       "      <td>26052</td>\n",
       "      <td>357849</td>\n",
       "      <td>1</td>\n",
       "    </tr>\n",
       "    <tr>\n",
       "      <th>2</th>\n",
       "      <td>my library</td>\n",
       "      <td>26052</td>\n",
       "      <td>210391</td>\n",
       "      <td>1</td>\n",
       "    </tr>\n",
       "    <tr>\n",
       "      <th>3</th>\n",
       "      <td>my library</td>\n",
       "      <td>26052</td>\n",
       "      <td>308876</td>\n",
       "      <td>1</td>\n",
       "    </tr>\n",
       "    <tr>\n",
       "      <th>4</th>\n",
       "      <td>explore</td>\n",
       "      <td>21893</td>\n",
       "      <td>222980</td>\n",
       "      <td>1</td>\n",
       "    </tr>\n",
       "  </tbody>\n",
       "</table>\n",
       "</div>"
      ],
      "text/plain": [
       "  source_system_tab  userID  itemID  rating\n",
       "0           explore   21893  335731       1\n",
       "1        my library   26052  357849       1\n",
       "2        my library   26052  210391       1\n",
       "3        my library   26052  308876       1\n",
       "4           explore   21893  222980       1"
      ]
     },
     "execution_count": 5,
     "metadata": {},
     "output_type": "execute_result"
    }
   ],
   "source": [
    "train_df[[\"source_system_tab\", \"userID\", \"itemID\", \"rating\"]].head()"
   ]
  },
  {
   "cell_type": "markdown",
   "id": "81955361",
   "metadata": {},
   "source": [
    "**test data**\n",
    "\n",
    "The format of test data is similar to trian data."
   ]
  },
  {
   "cell_type": "code",
   "execution_count": 6,
   "id": "27177c9b",
   "metadata": {},
   "outputs": [],
   "source": [
    "test_df = pd.read_parquet(\"data_p1/test_p1.parquet\")"
   ]
  },
  {
   "cell_type": "code",
   "execution_count": 7,
   "id": "6b2259f3",
   "metadata": {},
   "outputs": [
    {
     "name": "stdout",
     "output_type": "stream",
     "text": [
      "test data size (2556790, 6)\n"
     ]
    }
   ],
   "source": [
    "n_test = test_df.shape[0]\n",
    "print(\"test data size\", test_df.shape)"
   ]
  },
  {
   "cell_type": "code",
   "execution_count": 8,
   "id": "33e1b232",
   "metadata": {},
   "outputs": [
    {
     "data": {
      "text/html": [
       "<div>\n",
       "<style scoped>\n",
       "    .dataframe tbody tr th:only-of-type {\n",
       "        vertical-align: middle;\n",
       "    }\n",
       "\n",
       "    .dataframe tbody tr th {\n",
       "        vertical-align: top;\n",
       "    }\n",
       "\n",
       "    .dataframe thead th {\n",
       "        text-align: right;\n",
       "    }\n",
       "</style>\n",
       "<table border=\"1\" class=\"dataframe\">\n",
       "  <thead>\n",
       "    <tr style=\"text-align: right;\">\n",
       "      <th></th>\n",
       "      <th>id</th>\n",
       "      <th>source_system_tab</th>\n",
       "      <th>source_screen_name</th>\n",
       "      <th>source_type</th>\n",
       "      <th>userID</th>\n",
       "      <th>itemID</th>\n",
       "    </tr>\n",
       "  </thead>\n",
       "  <tbody>\n",
       "    <tr>\n",
       "      <th>0</th>\n",
       "      <td>0</td>\n",
       "      <td>my library</td>\n",
       "      <td>Local playlist more</td>\n",
       "      <td>local-library</td>\n",
       "      <td>29464</td>\n",
       "      <td>187683</td>\n",
       "    </tr>\n",
       "    <tr>\n",
       "      <th>1</th>\n",
       "      <td>1</td>\n",
       "      <td>my library</td>\n",
       "      <td>Local playlist more</td>\n",
       "      <td>local-library</td>\n",
       "      <td>29464</td>\n",
       "      <td>2101</td>\n",
       "    </tr>\n",
       "    <tr>\n",
       "      <th>2</th>\n",
       "      <td>2</td>\n",
       "      <td>discover</td>\n",
       "      <td>None</td>\n",
       "      <td>song-based-playlist</td>\n",
       "      <td>24266</td>\n",
       "      <td>10113</td>\n",
       "    </tr>\n",
       "    <tr>\n",
       "      <th>3</th>\n",
       "      <td>3</td>\n",
       "      <td>radio</td>\n",
       "      <td>Radio</td>\n",
       "      <td>radio</td>\n",
       "      <td>22501</td>\n",
       "      <td>78829</td>\n",
       "    </tr>\n",
       "    <tr>\n",
       "      <th>4</th>\n",
       "      <td>4</td>\n",
       "      <td>radio</td>\n",
       "      <td>Radio</td>\n",
       "      <td>radio</td>\n",
       "      <td>22501</td>\n",
       "      <td>42570</td>\n",
       "    </tr>\n",
       "  </tbody>\n",
       "</table>\n",
       "</div>"
      ],
      "text/plain": [
       "   id source_system_tab   source_screen_name          source_type  userID  \\\n",
       "0   0        my library  Local playlist more        local-library   29464   \n",
       "1   1        my library  Local playlist more        local-library   29464   \n",
       "2   2          discover                 None  song-based-playlist   24266   \n",
       "3   3             radio                Radio                radio   22501   \n",
       "4   4             radio                Radio                radio   22501   \n",
       "\n",
       "   itemID  \n",
       "0  187683  \n",
       "1    2101  \n",
       "2   10113  \n",
       "3   78829  \n",
       "4   42570  "
      ]
     },
     "execution_count": 8,
     "metadata": {},
     "output_type": "execute_result"
    }
   ],
   "source": [
    "test_df.head()"
   ]
  },
  {
   "cell_type": "markdown",
   "id": "536088a2",
   "metadata": {},
   "source": [
    "**user data**\n",
    "\n",
    "User data consists of city, bd (age), gender, registered_via, registration and expiration time. In this project, only `userID` is used, because collaborative method does not require them. Rating information are most important feature for collaborative method."
   ]
  },
  {
   "cell_type": "code",
   "execution_count": 9,
   "id": "7a231456",
   "metadata": {},
   "outputs": [],
   "source": [
    "member_df = pd.read_parquet(\"data_p1/members_p1.parquet\")"
   ]
  },
  {
   "cell_type": "code",
   "execution_count": 10,
   "id": "eed1189a",
   "metadata": {},
   "outputs": [
    {
     "name": "stdout",
     "output_type": "stream",
     "text": [
      "user data size (34403, 7)\n"
     ]
    }
   ],
   "source": [
    "n_member = member_df.shape[0]\n",
    "print(\"user data size\", member_df.shape)"
   ]
  },
  {
   "cell_type": "code",
   "execution_count": 11,
   "id": "a5eece82",
   "metadata": {},
   "outputs": [
    {
     "data": {
      "text/html": [
       "<div>\n",
       "<style scoped>\n",
       "    .dataframe tbody tr th:only-of-type {\n",
       "        vertical-align: middle;\n",
       "    }\n",
       "\n",
       "    .dataframe tbody tr th {\n",
       "        vertical-align: top;\n",
       "    }\n",
       "\n",
       "    .dataframe thead th {\n",
       "        text-align: right;\n",
       "    }\n",
       "</style>\n",
       "<table border=\"1\" class=\"dataframe\">\n",
       "  <thead>\n",
       "    <tr style=\"text-align: right;\">\n",
       "      <th></th>\n",
       "      <th>city</th>\n",
       "      <th>bd</th>\n",
       "      <th>gender</th>\n",
       "      <th>registered_via</th>\n",
       "      <th>registration_init_time</th>\n",
       "      <th>expiration_date</th>\n",
       "      <th>userID</th>\n",
       "    </tr>\n",
       "  </thead>\n",
       "  <tbody>\n",
       "    <tr>\n",
       "      <th>0</th>\n",
       "      <td>1</td>\n",
       "      <td>0</td>\n",
       "      <td>None</td>\n",
       "      <td>7</td>\n",
       "      <td>20110820</td>\n",
       "      <td>20170920</td>\n",
       "      <td>0</td>\n",
       "    </tr>\n",
       "    <tr>\n",
       "      <th>1</th>\n",
       "      <td>1</td>\n",
       "      <td>0</td>\n",
       "      <td>None</td>\n",
       "      <td>7</td>\n",
       "      <td>20150628</td>\n",
       "      <td>20170622</td>\n",
       "      <td>1</td>\n",
       "    </tr>\n",
       "    <tr>\n",
       "      <th>2</th>\n",
       "      <td>1</td>\n",
       "      <td>0</td>\n",
       "      <td>None</td>\n",
       "      <td>4</td>\n",
       "      <td>20160411</td>\n",
       "      <td>20170712</td>\n",
       "      <td>2</td>\n",
       "    </tr>\n",
       "    <tr>\n",
       "      <th>3</th>\n",
       "      <td>1</td>\n",
       "      <td>0</td>\n",
       "      <td>None</td>\n",
       "      <td>9</td>\n",
       "      <td>20150906</td>\n",
       "      <td>20150907</td>\n",
       "      <td>3</td>\n",
       "    </tr>\n",
       "    <tr>\n",
       "      <th>4</th>\n",
       "      <td>1</td>\n",
       "      <td>0</td>\n",
       "      <td>None</td>\n",
       "      <td>4</td>\n",
       "      <td>20170126</td>\n",
       "      <td>20170613</td>\n",
       "      <td>4</td>\n",
       "    </tr>\n",
       "  </tbody>\n",
       "</table>\n",
       "</div>"
      ],
      "text/plain": [
       "   city  bd gender  registered_via  registration_init_time  expiration_date  \\\n",
       "0     1   0   None               7                20110820         20170920   \n",
       "1     1   0   None               7                20150628         20170622   \n",
       "2     1   0   None               4                20160411         20170712   \n",
       "3     1   0   None               9                20150906         20150907   \n",
       "4     1   0   None               4                20170126         20170613   \n",
       "\n",
       "   userID  \n",
       "0       0  \n",
       "1       1  \n",
       "2       2  \n",
       "3       3  \n",
       "4       4  "
      ]
     },
     "execution_count": 11,
     "metadata": {},
     "output_type": "execute_result"
    }
   ],
   "source": [
    "member_df.head()"
   ]
  },
  {
   "cell_type": "markdown",
   "id": "83771f91",
   "metadata": {},
   "source": [
    "**item data**\n",
    "\n",
    "Item data consists of artist, genre, compose, lyricist, language and song_length. In this project, `song_length`, `artist_id`, `itemID` are used. composer, genre, language are not used becacuse they are duplicated with `artist`.  "
   ]
  },
  {
   "cell_type": "code",
   "execution_count": 12,
   "id": "58bb0aff",
   "metadata": {},
   "outputs": [],
   "source": [
    "song_df = pd.read_parquet(\"data_p1/songs_p1.parquet\")"
   ]
  },
  {
   "cell_type": "code",
   "execution_count": 13,
   "id": "d9f9e5ee",
   "metadata": {},
   "outputs": [
    {
     "name": "stdout",
     "output_type": "stream",
     "text": [
      "item data size (419781, 8)\n"
     ]
    }
   ],
   "source": [
    "n_song = song_df.shape[0]\n",
    "print(\"item data size\", song_df.shape)"
   ]
  },
  {
   "cell_type": "code",
   "execution_count": 14,
   "id": "4d61740e",
   "metadata": {},
   "outputs": [
    {
     "data": {
      "text/html": [
       "<div>\n",
       "<style scoped>\n",
       "    .dataframe tbody tr th:only-of-type {\n",
       "        vertical-align: middle;\n",
       "    }\n",
       "\n",
       "    .dataframe tbody tr th {\n",
       "        vertical-align: top;\n",
       "    }\n",
       "\n",
       "    .dataframe thead th {\n",
       "        text-align: right;\n",
       "    }\n",
       "</style>\n",
       "<table border=\"1\" class=\"dataframe\">\n",
       "  <thead>\n",
       "    <tr style=\"text-align: right;\">\n",
       "      <th></th>\n",
       "      <th>itemID</th>\n",
       "      <th>song_length</th>\n",
       "      <th>artist_id</th>\n",
       "      <th>genre_ids</th>\n",
       "      <th>composer</th>\n",
       "      <th>language</th>\n",
       "    </tr>\n",
       "  </thead>\n",
       "  <tbody>\n",
       "    <tr>\n",
       "      <th>1000</th>\n",
       "      <td>1000</td>\n",
       "      <td>370729</td>\n",
       "      <td>22765</td>\n",
       "      <td>958</td>\n",
       "      <td>None</td>\n",
       "      <td>-1.0</td>\n",
       "    </tr>\n",
       "    <tr>\n",
       "      <th>1001</th>\n",
       "      <td>1001</td>\n",
       "      <td>219413</td>\n",
       "      <td>13203</td>\n",
       "      <td>1152</td>\n",
       "      <td>D. Modugno| F. Migliacci</td>\n",
       "      <td>52.0</td>\n",
       "    </tr>\n",
       "    <tr>\n",
       "      <th>1002</th>\n",
       "      <td>1002</td>\n",
       "      <td>189614</td>\n",
       "      <td>44835</td>\n",
       "      <td>873</td>\n",
       "      <td>None</td>\n",
       "      <td>-1.0</td>\n",
       "    </tr>\n",
       "    <tr>\n",
       "      <th>1003</th>\n",
       "      <td>1003</td>\n",
       "      <td>242181</td>\n",
       "      <td>41546</td>\n",
       "      <td>465</td>\n",
       "      <td>None</td>\n",
       "      <td>3.0</td>\n",
       "    </tr>\n",
       "    <tr>\n",
       "      <th>1004</th>\n",
       "      <td>1004</td>\n",
       "      <td>292571</td>\n",
       "      <td>25565</td>\n",
       "      <td>465</td>\n",
       "      <td>None</td>\n",
       "      <td>52.0</td>\n",
       "    </tr>\n",
       "  </tbody>\n",
       "</table>\n",
       "</div>"
      ],
      "text/plain": [
       "      itemID  song_length  artist_id genre_ids                  composer  \\\n",
       "1000    1000       370729      22765       958                      None   \n",
       "1001    1001       219413      13203      1152  D. Modugno| F. Migliacci   \n",
       "1002    1002       189614      44835       873                      None   \n",
       "1003    1003       242181      41546       465                      None   \n",
       "1004    1004       292571      25565       465                      None   \n",
       "\n",
       "      language  \n",
       "1000      -1.0  \n",
       "1001      52.0  \n",
       "1002      -1.0  \n",
       "1003       3.0  \n",
       "1004      52.0  "
      ]
     },
     "execution_count": 14,
     "metadata": {},
     "output_type": "execute_result"
    }
   ],
   "source": [
    "song_df[[\"itemID\", \"song_length\", \"artist_id\", \"genre_ids\", \"composer\",  \"language\"]].iloc[1000:1005]"
   ]
  },
  {
   "cell_type": "markdown",
   "id": "c760a6a6",
   "metadata": {},
   "source": [
    "# 3. Data Cleaning\n",
    "\n",
    "Data cleaning is implemented in another notebook `Data_Cleaning.ipynb`. It has the following procedures:\n",
    "\n",
    "* item ID and user ID were replaced with integers, because original IDs were very long string data.\n",
    "* There are a lot of songs which do not appear in train and test data. They are removed from the original song list.\n",
    "* To fill NaN values with \"None\" in `source_system_tab` column of train and test data.  "
   ]
  },
  {
   "cell_type": "markdown",
   "id": "ca54f08e",
   "metadata": {},
   "source": [
    "**Count of NaN**"
   ]
  },
  {
   "cell_type": "code",
   "execution_count": 15,
   "id": "7bd70f7b",
   "metadata": {},
   "outputs": [
    {
     "data": {
      "text/plain": [
       "source_system_tab     0\n",
       "source_screen_name    0\n",
       "source_type           0\n",
       "rating                0\n",
       "userID                0\n",
       "itemID                0\n",
       "dtype: int64"
      ]
     },
     "execution_count": 15,
     "metadata": {},
     "output_type": "execute_result"
    }
   ],
   "source": [
    "train_df.isna().sum()"
   ]
  },
  {
   "cell_type": "code",
   "execution_count": 16,
   "id": "f24e716e",
   "metadata": {},
   "outputs": [
    {
     "data": {
      "text/plain": [
       "id                    0\n",
       "source_system_tab     0\n",
       "source_screen_name    0\n",
       "source_type           0\n",
       "userID                0\n",
       "itemID                0\n",
       "dtype: int64"
      ]
     },
     "execution_count": 16,
     "metadata": {},
     "output_type": "execute_result"
    }
   ],
   "source": [
    "test_df.isna().sum()"
   ]
  },
  {
   "cell_type": "markdown",
   "id": "3190f6cd",
   "metadata": {},
   "source": [
    "# 4. EDA and Feature Engineering"
   ]
  },
  {
   "cell_type": "markdown",
   "id": "25f99e86",
   "metadata": {},
   "source": [
    "### 4.1 Distribution\n",
    "\n",
    "**rating**\n",
    "\n",
    "In the train data, numbers of 0 and 1 are solmost similar. It is balanced."
   ]
  },
  {
   "cell_type": "code",
   "execution_count": 17,
   "id": "39a954f6",
   "metadata": {},
   "outputs": [
    {
     "data": {
      "text/plain": [
       "Text(0.5, 1.0, 'Distribution of rating(Y) in train data')"
      ]
     },
     "execution_count": 17,
     "metadata": {},
     "output_type": "execute_result"
    },
    {
     "data": {
      "image/png": "[encoded data removed]",
      "text/plain": [
       "<Figure size 432x288 with 1 Axes>"
      ]
     },
     "metadata": {
      "needs_background": "light"
     },
     "output_type": "display_data"
    }
   ],
   "source": [
    "fig, ax = plt.subplots()\n",
    "train_df[\"rating\"].hist(ax = ax)\n",
    "ax.set_title(\"Distribution of rating(Y) in train data\")"
   ]
  },
  {
   "cell_type": "markdown",
   "id": "1e3b8d04",
   "metadata": {},
   "source": [
    "**users**\n",
    "\n",
    "Number of samples of users ranges from 1 to more than 1000. The mode is 1, and distribution decreases as the number of samples increases. \n",
    "It shows that there are lots of users that cannot rely on collaborative approach only. "
   ]
  },
  {
   "cell_type": "code",
   "execution_count": 18,
   "id": "5738cc75",
   "metadata": {},
   "outputs": [
    {
     "data": {
      "image/png": "[encoded data removed]",
      "text/plain": [
       "<Figure size 432x288 with 1 Axes>"
      ]
     },
     "metadata": {
      "needs_background": "light"
     },
     "output_type": "display_data"
    }
   ],
   "source": [
    "fig, ax = plt.subplots()\n",
    "train_df[[\"userID\", \"rating\"]].groupby(\"userID\").count().hist(bins = 200, ax = ax)\n",
    "ax.set_xlim(0, 2000)\n",
    "ax.set_ylabel(\"count\")\n",
    "ax.set_xlabel(\"Number of samples per user\")\n",
    "ax.set_title(\"Number of samples per user in train data\")\n",
    "plt.show()"
   ]
  },
  {
   "cell_type": "markdown",
   "id": "cba4dc5c",
   "metadata": {},
   "source": [
    "**items**\n",
    "\n",
    "There are so many songs which has only one sample in train data. It makes histogram (left) harder to see, Histogram in Log scale (right one) shows that there are songs which have more than 10,000 samples. "
   ]
  },
  {
   "cell_type": "code",
   "execution_count": 19,
   "id": "35b86d9b",
   "metadata": {},
   "outputs": [
    {
     "data": {
      "image/png": "[encoded data removed]",
      "text/plain": [
       "<Figure size 864x288 with 2 Axes>"
      ]
     },
     "metadata": {
      "needs_background": "light"
     },
     "output_type": "display_data"
    }
   ],
   "source": [
    "fig, ax = plt.subplots(1,2, figsize = (12,4))\n",
    "train_df[[\"itemID\", \"rating\"]].groupby(\"itemID\").count().hist(bins = 100, ax = ax[1])\n",
    "train_df[[\"itemID\", \"rating\"]].groupby(\"itemID\").count().hist(bins = 100, ax = ax[0])\n",
    "ax[1].set_yscale(\"log\")\n",
    "ax[1].set_ylabel(\"log(count)\")\n",
    "ax[0].set_ylabel(\"count\")\n",
    "for i in range(2):\n",
    "    ax[i].set_xlabel(\"Number of samples per item\")\n",
    "    ax[i].set_title(\"Number of samples per item in train data\")\n",
    "plt.show()"
   ]
  },
  {
   "cell_type": "markdown",
   "id": "bc558949",
   "metadata": {},
   "source": [
    "### 4.2 Grouping \"source_system_tab\" to \"source_id\"\n",
    "\n",
    "`source_system_tab` is the most important basic feature, because there are significant difference of mean rating between sources. For example, `my library` has highest mean rating. Of course it is highest, because a song is added to library by a user. In contrast, `radio` is lowest in mean rating. It is also plausible because radio plays songs randomly, and user tends to forget its name. Furthermore, `discover`, `explore`, `search` would mean the same thing where user actively search songs. "
   ]
  },
  {
   "cell_type": "code",
   "execution_count": 20,
   "id": "76398389",
   "metadata": {},
   "outputs": [
    {
     "data": {
      "text/plain": [
       "Text(0.5, 1.0, 'Histogram')"
      ]
     },
     "execution_count": 20,
     "metadata": {},
     "output_type": "execute_result"
    },
    {
     "data": {
      "image/png": "[encoded data removed]",
      "text/plain": [
       "<Figure size 720x720 with 2 Axes>"
      ]
     },
     "metadata": {
      "needs_background": "light"
     },
     "output_type": "display_data"
    }
   ],
   "source": [
    "fig, ax = plt.subplots(2, figsize = (10, 10))\n",
    "train_df[[\"source_system_tab\", \"rating\"]].groupby(\"source_system_tab\").mean().rename({\"rating\":\"mean_rating\"}, axis = 1).plot(ax=ax[0], marker = \"o\")\n",
    "#ax.axhline(y = train_df[\"rating\"].mean(), ls = \"-.\", color = \"red\", label = \"global mean\")\n",
    "ax[0].set_ylim(0,1)\n",
    "ax[0].legend()\n",
    "ax[0].set_title(\"Mean rating in each source_system_tab\")\n",
    "\n",
    "train_df[[\"source_system_tab\", \"rating\"]].groupby(\"source_system_tab\").count().rename({\"rating\":\"count\"}, axis = 1).plot.bar(ax=ax[1])\n",
    "ax[1].set_title(\"Histogram\")"
   ]
  },
  {
   "cell_type": "markdown",
   "id": "d934da2c",
   "metadata": {},
   "source": [
    "**Gouping source and convert to integer**\n",
    "\n",
    "Based on mean rating and interpretation, similar values are grouped, and converted into integer."
   ]
  },
  {
   "cell_type": "code",
   "execution_count": 21,
   "id": "d91be95f",
   "metadata": {},
   "outputs": [],
   "source": [
    "g0_set = set([\"my library\", \"settings\"])\n",
    "g1_set = set([\"discover\", \"explore\", \"search\"])\n",
    "g2_set = set([\"listen with\", \"notification\"])\n",
    "g3_set = set([\"radio\"])\n",
    "\n",
    "def source_id(source):\n",
    "    \n",
    "    if source in g0_set:\n",
    "        return 0\n",
    "    \n",
    "    if source in g1_set:\n",
    "        return 1\n",
    "    \n",
    "    if source in g2_set:\n",
    "        return 2\n",
    "    \n",
    "    if source in g3_set:\n",
    "        return 3\n",
    "    \n",
    "    return 4\n",
    "    "
   ]
  },
  {
   "cell_type": "code",
   "execution_count": 22,
   "id": "c7416d63",
   "metadata": {},
   "outputs": [],
   "source": [
    "train_df[\"source_id\"] = train_df[\"source_system_tab\"].apply(lambda x: source_id(x))\n",
    "test_df[\"source_id\"] = test_df[\"source_system_tab\"].apply(lambda x: source_id(x))"
   ]
  },
  {
   "cell_type": "markdown",
   "id": "2a70059d",
   "metadata": {},
   "source": [
    "### 4.3 Time Series Feature: Time since the first play\n",
    "\n",
    "Raing of music must be sentitive in time. People get tired of popular songs after a while. Thus, mean rating should be decayed in time.\n",
    "Although there is no information about time in data, I assumed that index is allocated in time order. I created new feature `time_firstplay` which means the time when the song firstly played in the data. Then for all the songs in the data, `time_since_firstplay` is calculated. It is divided by $5.0 * 10^5$, because value is too large. "
   ]
  },
  {
   "cell_type": "code",
   "execution_count": 23,
   "id": "d380f8ab",
   "metadata": {},
   "outputs": [],
   "source": [
    "train_df[\"time\"] = np.arange(n_train)\n",
    "test_df[\"time\"] = np.arange(n_train, n_train + n_test)"
   ]
  },
  {
   "cell_type": "code",
   "execution_count": 24,
   "id": "54daf845",
   "metadata": {},
   "outputs": [],
   "source": [
    "time_first_df = pd.concat([train_df[[\"itemID\", \"time\"]], test_df[[\"itemID\", \"time\"]]]).groupby(\"itemID\").min().reset_index().rename({\"time\":\"time_firstplay\"}, axis = 1)"
   ]
  },
  {
   "cell_type": "code",
   "execution_count": 25,
   "id": "cf12d197",
   "metadata": {},
   "outputs": [],
   "source": [
    "train_df = train_df.merge(time_first_df, on = \"itemID\", how = \"left\")\n",
    "test_df = test_df.merge(time_first_df, on = \"itemID\", how = \"left\")\n",
    "train_df[\"time_since_firstplay\"] = (train_df[\"time\"] - train_df[\"time_firstplay\"])//(10**5*5)\n",
    "test_df[\"time_since_firstplay\"] = (test_df[\"time\"] - test_df[\"time_firstplay\"])//(10**5*5)"
   ]
  },
  {
   "cell_type": "markdown",
   "id": "ecaf188f",
   "metadata": {},
   "source": [
    "### 4.4 Song minutes\n",
    "\n",
    "`song_length` apparently shows the length of song in milliseconds scale. It is more convenient to convert it into minutes.\n"
   ]
  },
  {
   "cell_type": "code",
   "execution_count": 26,
   "id": "78208546",
   "metadata": {},
   "outputs": [],
   "source": [
    "song_df[\"song_minute\"] = np.round(song_df[\"song_length\"]/(10**3*60))"
   ]
  },
  {
   "cell_type": "code",
   "execution_count": 27,
   "id": "b741c4ee",
   "metadata": {},
   "outputs": [
    {
     "data": {
      "text/html": [
       "<div>\n",
       "<style scoped>\n",
       "    .dataframe tbody tr th:only-of-type {\n",
       "        vertical-align: middle;\n",
       "    }\n",
       "\n",
       "    .dataframe tbody tr th {\n",
       "        vertical-align: top;\n",
       "    }\n",
       "\n",
       "    .dataframe thead th {\n",
       "        text-align: right;\n",
       "    }\n",
       "</style>\n",
       "<table border=\"1\" class=\"dataframe\">\n",
       "  <thead>\n",
       "    <tr style=\"text-align: right;\">\n",
       "      <th></th>\n",
       "      <th>song_length</th>\n",
       "      <th>song_minute</th>\n",
       "    </tr>\n",
       "  </thead>\n",
       "  <tbody>\n",
       "    <tr>\n",
       "      <th>0</th>\n",
       "      <td>247640</td>\n",
       "      <td>4.0</td>\n",
       "    </tr>\n",
       "    <tr>\n",
       "      <th>1</th>\n",
       "      <td>197328</td>\n",
       "      <td>3.0</td>\n",
       "    </tr>\n",
       "    <tr>\n",
       "      <th>2</th>\n",
       "      <td>231781</td>\n",
       "      <td>4.0</td>\n",
       "    </tr>\n",
       "    <tr>\n",
       "      <th>3</th>\n",
       "      <td>273554</td>\n",
       "      <td>5.0</td>\n",
       "    </tr>\n",
       "    <tr>\n",
       "      <th>4</th>\n",
       "      <td>140329</td>\n",
       "      <td>2.0</td>\n",
       "    </tr>\n",
       "  </tbody>\n",
       "</table>\n",
       "</div>"
      ],
      "text/plain": [
       "   song_length  song_minute\n",
       "0       247640          4.0\n",
       "1       197328          3.0\n",
       "2       231781          4.0\n",
       "3       273554          5.0\n",
       "4       140329          2.0"
      ]
     },
     "execution_count": 27,
     "metadata": {},
     "output_type": "execute_result"
    }
   ],
   "source": [
    "song_df[[\"song_length\", \"song_minute\"]].head()"
   ]
  },
  {
   "cell_type": "markdown",
   "id": "82abd1d8",
   "metadata": {},
   "source": [
    "### 4.5 Artists' mean rating\n",
    "\n",
    "To add feature attributed to artist and song minute, `artist_id` and `song_minute` is merged to train and test data from the song list."
   ]
  },
  {
   "cell_type": "code",
   "execution_count": 28,
   "id": "45c3c444",
   "metadata": {},
   "outputs": [],
   "source": [
    "train_df = train_df.merge(song_df[[\"itemID\", \"artist_id\", \"song_minute\"]], on = \"itemID\", how = \"left\")\n",
    "test_df = test_df.merge(song_df[[\"itemID\", \"artist_id\", \"song_minute\"]], on = \"itemID\", how = \"left\")"
   ]
  },
  {
   "cell_type": "code",
   "execution_count": 29,
   "id": "068c7072",
   "metadata": {},
   "outputs": [],
   "source": [
    "# fill NaN with -1\n",
    "filter1 = train_df[\"artist_id\"].isna()\n",
    "train_df.loc[filter1, \"artist_id\"] = -1\n",
    "train_df[\"artist_id\"] = train_df[\"artist_id\"].astype(int)\n",
    "\n",
    "filter1 = test_df[\"artist_id\"].isna()\n",
    "test_df.loc[filter1, \"artist_id\"] = -1\n",
    "test_df[\"artist_id\"] = test_df[\"artist_id\"].astype(int)"
   ]
  },
  {
   "cell_type": "markdown",
   "id": "3fa6e8e1",
   "metadata": {},
   "source": [
    "### 4.6 Visualizing features"
   ]
  },
  {
   "cell_type": "markdown",
   "id": "e5d648fd",
   "metadata": {},
   "source": [
    "`feature_prob` function calculate mean rating of each value in labels (specified columns). It exclude validations data, and data with small number of counts (< min_count) are removed. It returns dictionary for prediction and dataframe for visualization."
   ]
  },
  {
   "cell_type": "code",
   "execution_count": 30,
   "id": "51173525",
   "metadata": {},
   "outputs": [],
   "source": [
    "def feature_prob(labels, n_val, min_count):\n",
    "        \n",
    "    n_train = train_df.shape[0]\n",
    "    \n",
    "    # to exclude validation data from feature\n",
    "    n_train2 = n_train - n_val\n",
    "    \n",
    "    select =  labels + [\"rating\"]\n",
    "    sum_df=train_df[select].iloc[:n_train2,:].groupby(labels).sum()\n",
    "    count_df=train_df[select].iloc[:n_train2,:].groupby(labels).count()\n",
    "    \n",
    "    # small count is removed from \n",
    "    p_df = (sum_df/count_df)\n",
    "    filter1 = count_df[\"rating\"] > min_count\n",
    "        \n",
    "    p_df = p_df.loc[filter1,:].reset_index()\n",
    "\n",
    "    key_array = p_df[labels].to_numpy()\n",
    "    val_array = p_df[\"rating\"].to_numpy()\n",
    "    \n",
    "    p_dic = {}\n",
    "    for i in range(key_array.shape[0]):\n",
    "        #print(key_array[i])\n",
    "        p_dic[tuple(key_array[i])] = val_array[i]\n",
    "    \n",
    "    return p_dic,p_df"
   ]
  },
  {
   "cell_type": "markdown",
   "id": "a3a98a9c",
   "metadata": {},
   "source": [
    "#### Validation Size\n",
    "\n",
    "Validation data is the latter 20% of train data. It means that the validation data is newer than train data.  Sklearn's train_test_split is NOT used because train and validation shall not be shuffled."
   ]
  },
  {
   "cell_type": "code",
   "execution_count": 31,
   "id": "8ef23e77",
   "metadata": {},
   "outputs": [],
   "source": [
    "n_val = int(0.2*n_train)"
   ]
  },
  {
   "cell_type": "markdown",
   "id": "2e4982dc",
   "metadata": {},
   "source": [
    "**Features**\n",
    "\n",
    "Mean rating by `source_id` is called **global mean** in this report. Mean rating of `artist_id`, `song_minute`, `time_since_firstplay`, `itemID`, `userID` are calculated by each `source_id`. They are used for content-based approach."
   ]
  },
  {
   "cell_type": "code",
   "execution_count": 32,
   "id": "5f8730b5",
   "metadata": {},
   "outputs": [],
   "source": [
    "p_source_dic, p_source_df = feature_prob([\"source_id\"], n_val, 0)\n",
    "p_artist_dic, p_artist_df = feature_prob([\"artist_id\", \"source_id\"], n_val, 20)\n",
    "p_songmin_dic, p_songmin_df = feature_prob([\"song_minute\", \"source_id\"], n_val, 20)\n",
    "p_songage_dic, p_songage_df = feature_prob([\"time_since_firstplay\", \"source_id\"], n_val, 20)\n",
    "p_song_dic, p_song_df = feature_prob([\"itemID\", \"source_id\"], n_val, 20)\n",
    "p_user_dic, p_user_df = feature_prob([\"userID\", \"source_id\"], n_val, 20)"
   ]
  },
  {
   "cell_type": "markdown",
   "id": "fecc3fa0",
   "metadata": {},
   "source": [
    "### Merge feature to train data"
   ]
  },
  {
   "cell_type": "code",
   "execution_count": 33,
   "id": "3a7f8dba",
   "metadata": {},
   "outputs": [],
   "source": [
    "train_df[\"global_mean\"] = train_df[[\"source_id\"]].merge(p_source_df, on = [\"source_id\"], how = \"left\")[\"rating\"].to_numpy()"
   ]
  },
  {
   "cell_type": "code",
   "execution_count": 34,
   "id": "12e72ef2",
   "metadata": {},
   "outputs": [],
   "source": [
    "train_df[\"artist_bias\"] = train_df[[\"artist_id\", \"source_id\"]].merge(p_artist_df, on = [\"artist_id\", \"source_id\"], how = \"left\")[\"rating\"].to_numpy()\n",
    "filter1 = train_df[\"artist_bias\"].isna()\n",
    "train_df.loc[filter1,\"artist_bias\"] = train_df.loc[filter1, \"global_mean\"]"
   ]
  },
  {
   "cell_type": "code",
   "execution_count": 31,
   "id": "eae4c246",
   "metadata": {},
   "outputs": [],
   "source": [
    "def merge_feature(df1, name1, test = False):\n",
    "    \n",
    "    labels = list(df1.columns[:-1])\n",
    "    train_df[name1] = train_df[labels].merge(df1, on = labels, how = \"left\")[\"rating\"].to_numpy()\n",
    "    \n",
    "    filter1 =train_df[name1].isna()\n",
    "    train_df.loc[filter1, name1] = train_df.loc[filter1, \"global_mean\"]\n",
    "    \n",
    "    if test:\n",
    "        test_df[name1] = test_df[labels].merge(df1, on = labels, how = \"left\")[\"rating\"].to_numpy()\n",
    "\n",
    "        filter1 =test_df[name1].isna()\n",
    "        test_df.loc[filter1, name1] = test_df.loc[filter1, \"global_mean\"]\n",
    "    "
   ]
  },
  {
   "cell_type": "code",
   "execution_count": 36,
   "id": "6cab71d2",
   "metadata": {},
   "outputs": [],
   "source": [
    "merge_feature(p_artist_df, \"artist_p\")\n",
    "merge_feature(p_songmin_df, \"songmin_p\")\n",
    "merge_feature(p_songage_df, \"songage_p\")\n",
    "merge_feature(p_song_df, \"item_bias\")\n",
    "merge_feature(p_user_df, \"user_bias\")"
   ]
  },
  {
   "cell_type": "code",
   "execution_count": null,
   "id": "1c2af988",
   "metadata": {},
   "outputs": [],
   "source": []
  },
  {
   "cell_type": "markdown",
   "id": "437a8ce9",
   "metadata": {},
   "source": [
    "## Tuning and Validation"
   ]
  },
  {
   "cell_type": "code",
   "execution_count": 41,
   "id": "d6953f8f",
   "metadata": {},
   "outputs": [],
   "source": [
    "features = [\"userID\", \"itemID\", \"source_id\", \"artist_id\", \"artist_p\", \"global_mean\", \"songmin_p\", \"songage_p\", \"item_bias\", \"user_bias\"]"
   ]
  },
  {
   "cell_type": "code",
   "execution_count": null,
   "id": "bef51718",
   "metadata": {},
   "outputs": [],
   "source": []
  },
  {
   "cell_type": "code",
   "execution_count": 38,
   "id": "18b3238a",
   "metadata": {},
   "outputs": [],
   "source": [
    "X_train = train_df[features].iloc[0:-n_val,:]\n",
    "y_train = train_df[\"rating\"].iloc[0:-n_val].to_numpy()\n",
    "\n",
    "X_val = train_df[features].iloc[-n_val:,:]\n",
    "y_val = train_df[\"rating\"].iloc[-n_val:].to_numpy()"
   ]
  },
  {
   "cell_type": "code",
   "execution_count": null,
   "id": "9b84af3b",
   "metadata": {},
   "outputs": [],
   "source": []
  },
  {
   "cell_type": "code",
   "execution_count": 32,
   "id": "5ee24a5f",
   "metadata": {},
   "outputs": [],
   "source": [
    "from sklearn.ensemble import RandomForestClassifier"
   ]
  },
  {
   "cell_type": "code",
   "execution_count": 33,
   "id": "24bccba4",
   "metadata": {},
   "outputs": [],
   "source": [
    "def RF_train_and_val(X_train, y_train, X_val, y_val, m_depth, n_trainsample, test = False):\n",
    "    \n",
    "    n_train = X_train.shape[0]\n",
    "    \n",
    "    np.random.seed(1)\n",
    "    train_indx = np.random.choice(n_train, n_trainsample)\n",
    "    \n",
    "    time1 = time.time()\n",
    "    \n",
    "    clf = RandomForestClassifier(max_depth=m_depth, random_state=0, n_estimators = 100)\n",
    "    clf.fit(X_train.iloc[train_indx,:], y_train[train_indx])\n",
    "    \n",
    "    time2 = time.time()\n",
    "    \n",
    "    train_time = np.round(time2 - time1)\n",
    "    \n",
    "    print(\"train time[sec]\", train_time)\n",
    "    \n",
    "    if test:\n",
    "        return clf\n",
    "    \n",
    "    \n",
    "    #yhat_train = clf.predict_proba(X_train)[:,1]\n",
    "    \n",
    "    #fpr, tpr, thresholds = metrics.roc_curve(y_train, yhat_train, pos_label=1)\n",
    "    #train_auc = metrics.auc(fpr, tpr)\n",
    "    \n",
    "    time3 = time.time()\n",
    "\n",
    "    yhat_val = clf.predict_proba(X_val)[:,1]\n",
    "    \n",
    "    time4 = time.time()\n",
    "    \n",
    "    val_time = np.round(time4 - time3)\n",
    "    \n",
    "    print(\"prdiction time for validation\", val_time)\n",
    "    \n",
    "    fpr, tpr, thresholds = metrics.roc_curve(y_val, yhat_val, pos_label=1)\n",
    "    val_auc = metrics.auc(fpr, tpr)\n",
    "    \n",
    "    \n",
    "    print(\"val auc\",val_auc)\n",
    "    \n",
    "    return val_auc\n",
    "    "
   ]
  },
  {
   "cell_type": "code",
   "execution_count": 42,
   "id": "23089bed",
   "metadata": {},
   "outputs": [
    {
     "name": "stdout",
     "output_type": "stream",
     "text": [
      "max depth 7\n",
      "train time[sec] 12.0\n",
      "prdiction time for validation 14.0\n",
      "val auc 0.6603725496457302\n",
      "max depth 8\n",
      "train time[sec] 14.0\n",
      "prdiction time for validation 16.0\n",
      "val auc 0.6607745036791972\n",
      "max depth 9\n",
      "train time[sec] 15.0\n",
      "prdiction time for validation 20.0\n",
      "val auc 0.6605101191738653\n",
      "max depth 10\n",
      "train time[sec] 17.0\n",
      "prdiction time for validation 20.0\n",
      "val auc 0.6604941690257887\n",
      "max depth 11\n",
      "train time[sec] 19.0\n",
      "prdiction time for validation 22.0\n",
      "val auc 0.6599606920021885\n"
     ]
    }
   ],
   "source": [
    "m_depths = [7, 8,9,10, 11]\n",
    "scores = []\n",
    "for m_depth in m_depths:\n",
    "    print(\"max depth\", m_depth)\n",
    "    score = RF_train_and_val(X_train, y_train, X_val, y_val, m_depth = m_depth, n_trainsample = 100000)   \n",
    "    scores.append(score)"
   ]
  },
  {
   "cell_type": "code",
   "execution_count": 43,
   "id": "7c47c293",
   "metadata": {},
   "outputs": [
    {
     "data": {
      "text/plain": [
       "Text(0, 0.5, 'auc')"
      ]
     },
     "execution_count": 43,
     "metadata": {},
     "output_type": "execute_result"
    },
    {
     "data": {
      "image/png": "[encoded data removed]",
      "text/plain": [
       "<Figure size 432x288 with 1 Axes>"
      ]
     },
     "metadata": {
      "needs_background": "light"
     },
     "output_type": "display_data"
    }
   ],
   "source": [
    "fig, ax = plt.subplots()\n",
    "ax.plot(m_depths, scores)\n",
    "ax.set_title(\"Validation AUC (RandomForest)\")\n",
    "ax.set_xlabel(\"max depth\")\n",
    "ax.set_ylabel(\"auc\")"
   ]
  },
  {
   "cell_type": "markdown",
   "id": "71f66ae8",
   "metadata": {},
   "source": [
    "**best max depth = 8**"
   ]
  },
  {
   "cell_type": "markdown",
   "id": "26af0bf6",
   "metadata": {},
   "source": [
    "## Test"
   ]
  },
  {
   "cell_type": "code",
   "execution_count": 34,
   "id": "705c5e14",
   "metadata": {},
   "outputs": [],
   "source": [
    "n_val = 0"
   ]
  },
  {
   "cell_type": "code",
   "execution_count": 35,
   "id": "a24d27ec",
   "metadata": {},
   "outputs": [],
   "source": [
    "p_source_dic, p_source_df = feature_prob([\"source_id\"], n_val, 0)\n",
    "p_artist_dic, p_artist_df = feature_prob([\"artist_id\", \"source_id\"], n_val, 20)\n",
    "p_songmin_dic, p_songmin_df = feature_prob([\"song_minute\", \"source_id\"], n_val, 20)\n",
    "p_songage_dic, p_songage_df = feature_prob([\"time_since_firstplay\", \"source_id\"], n_val, 20)\n",
    "p_song_dic, p_song_df = feature_prob([\"itemID\", \"source_id\"], n_val, 20)\n",
    "p_user_dic, p_user_df = feature_prob([\"userID\", \"source_id\"], n_val, 20)"
   ]
  },
  {
   "cell_type": "code",
   "execution_count": null,
   "id": "ebd75d1d",
   "metadata": {},
   "outputs": [],
   "source": []
  },
  {
   "cell_type": "code",
   "execution_count": 36,
   "id": "4a531a6e",
   "metadata": {},
   "outputs": [],
   "source": [
    "train_df[\"global_mean\"] = train_df[[\"source_id\"]].merge(p_source_df, on = [\"source_id\"], how = \"left\")[\"rating\"].to_numpy()"
   ]
  },
  {
   "cell_type": "code",
   "execution_count": 37,
   "id": "744eae04",
   "metadata": {},
   "outputs": [],
   "source": [
    "test_df[\"global_mean\"] = test_df[[\"source_id\"]].merge(p_source_df, on = [\"source_id\"], how = \"left\")[\"rating\"].to_numpy()"
   ]
  },
  {
   "cell_type": "code",
   "execution_count": 38,
   "id": "32208964",
   "metadata": {},
   "outputs": [],
   "source": [
    "max_v = train_df[\"time_since_firstplay\"].max()\n",
    "filter1 = test_df[\"time_since_firstplay\"] > max_v\n",
    "test_df.loc[filter1, \"time_since_firstplay\"] = max_v"
   ]
  },
  {
   "cell_type": "code",
   "execution_count": null,
   "id": "e625a6d8",
   "metadata": {},
   "outputs": [],
   "source": []
  },
  {
   "cell_type": "code",
   "execution_count": 39,
   "id": "8a6353bd",
   "metadata": {},
   "outputs": [],
   "source": [
    "merge_feature(p_artist_df, \"artist_p\", True)\n",
    "merge_feature(p_songmin_df, \"songmin_p\", True)\n",
    "merge_feature(p_songage_df, \"songage_p\", True)\n",
    "merge_feature(p_song_df, \"item_bias\", True)\n",
    "merge_feature(p_user_df, \"user_bias\", True)"
   ]
  },
  {
   "cell_type": "code",
   "execution_count": 42,
   "id": "ab8b4370",
   "metadata": {},
   "outputs": [],
   "source": [
    "X_train = train_df[features]\n",
    "y_train = train_df[\"rating\"].to_numpy()\n",
    "\n",
    "X_test = test_df[features]"
   ]
  },
  {
   "cell_type": "code",
   "execution_count": 43,
   "id": "37c824ba",
   "metadata": {},
   "outputs": [
    {
     "name": "stdout",
     "output_type": "stream",
     "text": [
      "train time[sec] 43.0\n"
     ]
    }
   ],
   "source": [
    "clf = RF_train_and_val(X_train, y_train, X_val = None, y_val = None, m_depth = 8, n_trainsample = 300000, test = True)   "
   ]
  },
  {
   "cell_type": "code",
   "execution_count": 44,
   "id": "19d23857",
   "metadata": {},
   "outputs": [],
   "source": [
    "yhat_test = clf.predict_proba(X_test)[:,1]"
   ]
  },
  {
   "cell_type": "code",
   "execution_count": 45,
   "id": "4c6e9829",
   "metadata": {},
   "outputs": [],
   "source": [
    "sample_df = pd.read_parquet(\"data/sample_submission.parquet\")\n",
    "sample_df[\"target\"] = yhat_test\n",
    "sample_df.to_csv(\"output/RF_depth8.csv\", index = False)"
   ]
  },
  {
   "cell_type": "markdown",
   "id": "c69dca56",
   "metadata": {},
   "source": [
    "**kaggle private score: 0.65998**"
   ]
  },
  {
   "cell_type": "code",
   "execution_count": null,
   "id": "eeffa224",
   "metadata": {},
   "outputs": [],
   "source": []
  },
  {
   "cell_type": "code",
   "execution_count": null,
   "id": "c0b7f895",
   "metadata": {},
   "outputs": [],
   "source": []
  }
 ],
 "metadata": {
  "kernelspec": {
   "display_name": "Python 3 (ipykernel)",
   "language": "python",
   "name": "python3"
  },
  "language_info": {
   "codemirror_mode": {
    "name": "ipython",
    "version": 3
   },
   "file_extension": ".py",
   "mimetype": "text/x-python",
   "name": "python",
   "nbconvert_exporter": "python",
   "pygments_lexer": "ipython3",
   "version": "3.9.7"
  }
 },
 "nbformat": 4,
 "nbformat_minor": 5
}

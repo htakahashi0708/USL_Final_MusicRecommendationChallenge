{
 "cells": [
  {
   "cell_type": "markdown",
   "id": "27002897",
   "metadata": {},
   "source": [
    "## Table of Contents\n",
    "\n",
    "    1. Project Topic\n",
    "    2. Data\n",
    "    3. Data Cleaning\n",
    "    4. EDA and Feature Engineering\n",
    "    5. Hybrid Recommender System\n",
    "        5.1 Content-based approach\n",
    "        5.2 Collaborated approach\n",
    "            5.2.1 SVD\n",
    "            5.2.2 KNN\n",
    "    6. Test\n",
    "        6.1 Submission to Kaggle\n",
    "        6.2 Results\n",
    "    7. Conclusion"
   ]
  },
  {
   "cell_type": "markdown",
   "id": "dc53a9fe",
   "metadata": {},
   "source": [
    "# 1. Project Topic"
   ]
  },
  {
   "cell_type": "markdown",
   "id": "b33f5b5d",
   "metadata": {},
   "source": [
    "### 1.1 Purpose \n",
    "\n",
    "This is a report of Unsupervised Learning for the past kaggle competition **WSDM - KKBox's Music Recommendation Challenge**. The purpose of this project is to predict whether user listened to a song again within a month after the first observable listening. If yes, then y = 1, otherwise y = 0. Participants must predict y in probability, and the score is measured by `auc`.\n",
    "\n",
    "https://www.kaggle.com/competitions/kkbox-music-recommendation-challenge/overview\n",
    "\n",
    "### 1.2 Problems in data\n",
    "This project has some problems for developping a recommender system.\n",
    "\n",
    "**Rare items and new items**\n",
    "\n",
    "90% of songs are appeared in train data less than 20 times, and those songs occupy 14% of train data. In addition, 7% of songs in test data did not appeared in train data. Those are new items which collaborative filtering does not work.\n",
    "\n",
    "**Data size (memory issue)** \n",
    "\n",
    "To construct full user-item rating matrix, more than 100GB RAM is requrired. (419,781 songs x 34,403 users = 1.4e+10)\n",
    "\n",
    "\n",
    "### 1.3 Methodology of Hybrid Recommender System\n",
    "\n",
    "Considering problems of data, I decided to combine both content-based and collaborative approaches as Hybrid Recommender System. This system consists of following layers.\n",
    "\n",
    "**recommender system layer**\n",
    "1. Purely content-based approach according to features (artist, song length, etc): **Non-personalized**\n",
    "2. To mix item bias into content-based approach (if an item has enuogh samples): **Non-personalized**\n",
    "3. To mix user bias into content-based approach for frequent users (if a user has enough samples): **slightly personalized**\n",
    "4. To mix collaborative method into content-based approach (for frequent users and items): **fully personalized**\n",
    "\n",
    "Furthermore, I do not use any of supervised learning method, although **most of participants applied supervised learning approaches, specifically lightgbm and catboost** are apparently the most selected methods according to codes in kaggle competition. In the real situation, however, those methods are computationally expensive when millions of users access daily. In contrast, unsupervised approach has lower computation costs such as selecting vlaue from matrix, or inner product of arrays. Thereore, it is worth to know performence of unsupervised approach.\n",
    "\n",
    "\n",
    "\n",
    "### 1.4 Target\n",
    "\n",
    "The target of this project is **auc > 0.66** considering bench mark score and my RandomForest results. \n",
    "\n",
    "* KKBox Benchmark: auc 0.61337\n",
    "* My RandomForestClassifier: auc 0.65998 (refer to another notebook `Appendix_RandomForest.ipynb`)\n",
    "\n",
    "This project has generally low scores in kaggle leaderboard. auc 0.7 is top 50 of 1000 partcipants. "
   ]
  },
  {
   "cell_type": "markdown",
   "id": "e905a690",
   "metadata": {},
   "source": [
    "# 2. Data"
   ]
  },
  {
   "cell_type": "markdown",
   "id": "56397735",
   "metadata": {},
   "source": [
    "There are four data in this project. train and test data which consists of user-item and its rating (train only). In addition, feature of item ans users are also provided. \n",
    "\n",
    "**Data Source**\n",
    "\n",
    "https://www.kaggle.com/competitions/kkbox-music-recommendation-challenge/data"
   ]
  },
  {
   "cell_type": "code",
   "execution_count": 2,
   "id": "3d7eb8c1",
   "metadata": {},
   "outputs": [],
   "source": [
    "import numpy as np\n",
    "import pandas as pd\n",
    "import matplotlib.pyplot as plt\n",
    "import seaborn as sns\n",
    "import math\n",
    "import os\n",
    "from surprise import Dataset, Reader, SVD, KNNWithMeans, KNNBaseline\n",
    "from sklearn import metrics\n",
    "import time"
   ]
  },
  {
   "cell_type": "markdown",
   "id": "67219cc9",
   "metadata": {},
   "source": [
    "**train data**\n",
    "\n",
    "Train data consists of `userID`, `itemID` and `rating`. In addition, `source_system_tab` (where a user played song) is indicated. `source_system_tab` is the most important feature (refer to chapter 4.). "
   ]
  },
  {
   "cell_type": "code",
   "execution_count": 2,
   "id": "aeabf685",
   "metadata": {},
   "outputs": [],
   "source": [
    "train_df = pd.read_parquet(\"data_p1/train_p1.parquet\")"
   ]
  },
  {
   "cell_type": "code",
   "execution_count": 116,
   "id": "8528b061",
   "metadata": {},
   "outputs": [
    {
     "name": "stdout",
     "output_type": "stream",
     "text": [
      "train data size (7377418, 12)\n"
     ]
    }
   ],
   "source": [
    "n_train = train_df.shape[0]\n",
    "print(\"train data size\", train_df.shape)"
   ]
  },
  {
   "cell_type": "code",
   "execution_count": 4,
   "id": "4cdf696e",
   "metadata": {},
   "outputs": [
    {
     "data": {
      "text/html": [
       "<div>\n",
       "<style scoped>\n",
       "    .dataframe tbody tr th:only-of-type {\n",
       "        vertical-align: middle;\n",
       "    }\n",
       "\n",
       "    .dataframe tbody tr th {\n",
       "        vertical-align: top;\n",
       "    }\n",
       "\n",
       "    .dataframe thead th {\n",
       "        text-align: right;\n",
       "    }\n",
       "</style>\n",
       "<table border=\"1\" class=\"dataframe\">\n",
       "  <thead>\n",
       "    <tr style=\"text-align: right;\">\n",
       "      <th></th>\n",
       "      <th>source_system_tab</th>\n",
       "      <th>source_screen_name</th>\n",
       "      <th>source_type</th>\n",
       "      <th>rating</th>\n",
       "      <th>userID</th>\n",
       "      <th>itemID</th>\n",
       "    </tr>\n",
       "  </thead>\n",
       "  <tbody>\n",
       "    <tr>\n",
       "      <th>0</th>\n",
       "      <td>explore</td>\n",
       "      <td>Explore</td>\n",
       "      <td>online-playlist</td>\n",
       "      <td>1</td>\n",
       "      <td>21893</td>\n",
       "      <td>335731</td>\n",
       "    </tr>\n",
       "    <tr>\n",
       "      <th>1</th>\n",
       "      <td>my library</td>\n",
       "      <td>Local playlist more</td>\n",
       "      <td>local-playlist</td>\n",
       "      <td>1</td>\n",
       "      <td>26052</td>\n",
       "      <td>357849</td>\n",
       "    </tr>\n",
       "    <tr>\n",
       "      <th>2</th>\n",
       "      <td>my library</td>\n",
       "      <td>Local playlist more</td>\n",
       "      <td>local-playlist</td>\n",
       "      <td>1</td>\n",
       "      <td>26052</td>\n",
       "      <td>210391</td>\n",
       "    </tr>\n",
       "    <tr>\n",
       "      <th>3</th>\n",
       "      <td>my library</td>\n",
       "      <td>Local playlist more</td>\n",
       "      <td>local-playlist</td>\n",
       "      <td>1</td>\n",
       "      <td>26052</td>\n",
       "      <td>308876</td>\n",
       "    </tr>\n",
       "    <tr>\n",
       "      <th>4</th>\n",
       "      <td>explore</td>\n",
       "      <td>Explore</td>\n",
       "      <td>online-playlist</td>\n",
       "      <td>1</td>\n",
       "      <td>21893</td>\n",
       "      <td>222980</td>\n",
       "    </tr>\n",
       "  </tbody>\n",
       "</table>\n",
       "</div>"
      ],
      "text/plain": [
       "  source_system_tab   source_screen_name      source_type  rating  userID  \\\n",
       "0           explore              Explore  online-playlist       1   21893   \n",
       "1        my library  Local playlist more   local-playlist       1   26052   \n",
       "2        my library  Local playlist more   local-playlist       1   26052   \n",
       "3        my library  Local playlist more   local-playlist       1   26052   \n",
       "4           explore              Explore  online-playlist       1   21893   \n",
       "\n",
       "   itemID  \n",
       "0  335731  \n",
       "1  357849  \n",
       "2  210391  \n",
       "3  308876  \n",
       "4  222980  "
      ]
     },
     "execution_count": 4,
     "metadata": {},
     "output_type": "execute_result"
    }
   ],
   "source": [
    "train_df.head()"
   ]
  },
  {
   "cell_type": "markdown",
   "id": "81955361",
   "metadata": {},
   "source": [
    "**test data**\n",
    "\n",
    "The format of test data is similar to trian data."
   ]
  },
  {
   "cell_type": "code",
   "execution_count": 5,
   "id": "27177c9b",
   "metadata": {},
   "outputs": [],
   "source": [
    "test_df = pd.read_parquet(\"data_p1/test_p1.parquet\")"
   ]
  },
  {
   "cell_type": "code",
   "execution_count": 117,
   "id": "6b2259f3",
   "metadata": {},
   "outputs": [
    {
     "name": "stdout",
     "output_type": "stream",
     "text": [
      "test data size (2556790, 12)\n"
     ]
    }
   ],
   "source": [
    "n_test = test_df.shape[0]\n",
    "print(\"test data size\", test_df.shape)"
   ]
  },
  {
   "cell_type": "code",
   "execution_count": 7,
   "id": "33e1b232",
   "metadata": {},
   "outputs": [
    {
     "data": {
      "text/html": [
       "<div>\n",
       "<style scoped>\n",
       "    .dataframe tbody tr th:only-of-type {\n",
       "        vertical-align: middle;\n",
       "    }\n",
       "\n",
       "    .dataframe tbody tr th {\n",
       "        vertical-align: top;\n",
       "    }\n",
       "\n",
       "    .dataframe thead th {\n",
       "        text-align: right;\n",
       "    }\n",
       "</style>\n",
       "<table border=\"1\" class=\"dataframe\">\n",
       "  <thead>\n",
       "    <tr style=\"text-align: right;\">\n",
       "      <th></th>\n",
       "      <th>id</th>\n",
       "      <th>source_system_tab</th>\n",
       "      <th>source_screen_name</th>\n",
       "      <th>source_type</th>\n",
       "      <th>userID</th>\n",
       "      <th>itemID</th>\n",
       "    </tr>\n",
       "  </thead>\n",
       "  <tbody>\n",
       "    <tr>\n",
       "      <th>0</th>\n",
       "      <td>0</td>\n",
       "      <td>my library</td>\n",
       "      <td>Local playlist more</td>\n",
       "      <td>local-library</td>\n",
       "      <td>29464</td>\n",
       "      <td>187683</td>\n",
       "    </tr>\n",
       "    <tr>\n",
       "      <th>1</th>\n",
       "      <td>1</td>\n",
       "      <td>my library</td>\n",
       "      <td>Local playlist more</td>\n",
       "      <td>local-library</td>\n",
       "      <td>29464</td>\n",
       "      <td>2101</td>\n",
       "    </tr>\n",
       "    <tr>\n",
       "      <th>2</th>\n",
       "      <td>2</td>\n",
       "      <td>discover</td>\n",
       "      <td>None</td>\n",
       "      <td>song-based-playlist</td>\n",
       "      <td>24266</td>\n",
       "      <td>10113</td>\n",
       "    </tr>\n",
       "    <tr>\n",
       "      <th>3</th>\n",
       "      <td>3</td>\n",
       "      <td>radio</td>\n",
       "      <td>Radio</td>\n",
       "      <td>radio</td>\n",
       "      <td>22501</td>\n",
       "      <td>78829</td>\n",
       "    </tr>\n",
       "    <tr>\n",
       "      <th>4</th>\n",
       "      <td>4</td>\n",
       "      <td>radio</td>\n",
       "      <td>Radio</td>\n",
       "      <td>radio</td>\n",
       "      <td>22501</td>\n",
       "      <td>42570</td>\n",
       "    </tr>\n",
       "  </tbody>\n",
       "</table>\n",
       "</div>"
      ],
      "text/plain": [
       "   id source_system_tab   source_screen_name          source_type  userID  \\\n",
       "0   0        my library  Local playlist more        local-library   29464   \n",
       "1   1        my library  Local playlist more        local-library   29464   \n",
       "2   2          discover                 None  song-based-playlist   24266   \n",
       "3   3             radio                Radio                radio   22501   \n",
       "4   4             radio                Radio                radio   22501   \n",
       "\n",
       "   itemID  \n",
       "0  187683  \n",
       "1    2101  \n",
       "2   10113  \n",
       "3   78829  \n",
       "4   42570  "
      ]
     },
     "execution_count": 7,
     "metadata": {},
     "output_type": "execute_result"
    }
   ],
   "source": [
    "test_df.head()"
   ]
  },
  {
   "cell_type": "markdown",
   "id": "536088a2",
   "metadata": {},
   "source": [
    "**user data**\n",
    "\n",
    "User data consists of city, bd (age), gender, registered_via, registration and expiration time. In this project, only `userID` is used, because collaborative method does not require them. Rating information are most important feature for collaborative method."
   ]
  },
  {
   "cell_type": "code",
   "execution_count": 8,
   "id": "7a231456",
   "metadata": {},
   "outputs": [],
   "source": [
    "member_df = pd.read_parquet(\"data_p1/members_p1.parquet\")"
   ]
  },
  {
   "cell_type": "code",
   "execution_count": 118,
   "id": "eed1189a",
   "metadata": {},
   "outputs": [
    {
     "name": "stdout",
     "output_type": "stream",
     "text": [
      "user data size (34403, 7)\n"
     ]
    }
   ],
   "source": [
    "n_member = member_df.shape[0]\n",
    "print(\"user data size\", member_df.shape)"
   ]
  },
  {
   "cell_type": "code",
   "execution_count": 10,
   "id": "a5eece82",
   "metadata": {},
   "outputs": [
    {
     "data": {
      "text/html": [
       "<div>\n",
       "<style scoped>\n",
       "    .dataframe tbody tr th:only-of-type {\n",
       "        vertical-align: middle;\n",
       "    }\n",
       "\n",
       "    .dataframe tbody tr th {\n",
       "        vertical-align: top;\n",
       "    }\n",
       "\n",
       "    .dataframe thead th {\n",
       "        text-align: right;\n",
       "    }\n",
       "</style>\n",
       "<table border=\"1\" class=\"dataframe\">\n",
       "  <thead>\n",
       "    <tr style=\"text-align: right;\">\n",
       "      <th></th>\n",
       "      <th>city</th>\n",
       "      <th>bd</th>\n",
       "      <th>gender</th>\n",
       "      <th>registered_via</th>\n",
       "      <th>registration_init_time</th>\n",
       "      <th>expiration_date</th>\n",
       "      <th>userID</th>\n",
       "    </tr>\n",
       "  </thead>\n",
       "  <tbody>\n",
       "    <tr>\n",
       "      <th>0</th>\n",
       "      <td>1</td>\n",
       "      <td>0</td>\n",
       "      <td>None</td>\n",
       "      <td>7</td>\n",
       "      <td>20110820</td>\n",
       "      <td>20170920</td>\n",
       "      <td>0</td>\n",
       "    </tr>\n",
       "    <tr>\n",
       "      <th>1</th>\n",
       "      <td>1</td>\n",
       "      <td>0</td>\n",
       "      <td>None</td>\n",
       "      <td>7</td>\n",
       "      <td>20150628</td>\n",
       "      <td>20170622</td>\n",
       "      <td>1</td>\n",
       "    </tr>\n",
       "    <tr>\n",
       "      <th>2</th>\n",
       "      <td>1</td>\n",
       "      <td>0</td>\n",
       "      <td>None</td>\n",
       "      <td>4</td>\n",
       "      <td>20160411</td>\n",
       "      <td>20170712</td>\n",
       "      <td>2</td>\n",
       "    </tr>\n",
       "    <tr>\n",
       "      <th>3</th>\n",
       "      <td>1</td>\n",
       "      <td>0</td>\n",
       "      <td>None</td>\n",
       "      <td>9</td>\n",
       "      <td>20150906</td>\n",
       "      <td>20150907</td>\n",
       "      <td>3</td>\n",
       "    </tr>\n",
       "    <tr>\n",
       "      <th>4</th>\n",
       "      <td>1</td>\n",
       "      <td>0</td>\n",
       "      <td>None</td>\n",
       "      <td>4</td>\n",
       "      <td>20170126</td>\n",
       "      <td>20170613</td>\n",
       "      <td>4</td>\n",
       "    </tr>\n",
       "  </tbody>\n",
       "</table>\n",
       "</div>"
      ],
      "text/plain": [
       "   city  bd gender  registered_via  registration_init_time  expiration_date  \\\n",
       "0     1   0   None               7                20110820         20170920   \n",
       "1     1   0   None               7                20150628         20170622   \n",
       "2     1   0   None               4                20160411         20170712   \n",
       "3     1   0   None               9                20150906         20150907   \n",
       "4     1   0   None               4                20170126         20170613   \n",
       "\n",
       "   userID  \n",
       "0       0  \n",
       "1       1  \n",
       "2       2  \n",
       "3       3  \n",
       "4       4  "
      ]
     },
     "execution_count": 10,
     "metadata": {},
     "output_type": "execute_result"
    }
   ],
   "source": [
    "member_df.head()"
   ]
  },
  {
   "cell_type": "markdown",
   "id": "83771f91",
   "metadata": {},
   "source": [
    "**item data**\n",
    "\n",
    "Item data consists of artist, genre, compose, lyricist, language and song_length. In this project, `song_length`, `artist_id`, `itemID` are used. composer, genre, language are not used becacuse they are duplicated with `artist`.  "
   ]
  },
  {
   "cell_type": "code",
   "execution_count": 3,
   "id": "58bb0aff",
   "metadata": {},
   "outputs": [],
   "source": [
    "song_df = pd.read_parquet(\"data_p1/songs_p1.parquet\")"
   ]
  },
  {
   "cell_type": "code",
   "execution_count": 4,
   "id": "d9f9e5ee",
   "metadata": {},
   "outputs": [
    {
     "name": "stdout",
     "output_type": "stream",
     "text": [
      "item data size (419781, 8)\n"
     ]
    }
   ],
   "source": [
    "n_song = song_df.shape[0]\n",
    "print(\"item data size\", song_df.shape)"
   ]
  },
  {
   "cell_type": "code",
   "execution_count": 5,
   "id": "4d61740e",
   "metadata": {},
   "outputs": [
    {
     "data": {
      "text/html": [
       "<div>\n",
       "<style scoped>\n",
       "    .dataframe tbody tr th:only-of-type {\n",
       "        vertical-align: middle;\n",
       "    }\n",
       "\n",
       "    .dataframe tbody tr th {\n",
       "        vertical-align: top;\n",
       "    }\n",
       "\n",
       "    .dataframe thead th {\n",
       "        text-align: right;\n",
       "    }\n",
       "</style>\n",
       "<table border=\"1\" class=\"dataframe\">\n",
       "  <thead>\n",
       "    <tr style=\"text-align: right;\">\n",
       "      <th></th>\n",
       "      <th>song_length</th>\n",
       "      <th>genre_ids</th>\n",
       "      <th>artist_name</th>\n",
       "      <th>composer</th>\n",
       "      <th>lyricist</th>\n",
       "      <th>language</th>\n",
       "      <th>artist_id</th>\n",
       "      <th>itemID</th>\n",
       "    </tr>\n",
       "  </thead>\n",
       "  <tbody>\n",
       "    <tr>\n",
       "      <th>0</th>\n",
       "      <td>247640</td>\n",
       "      <td>465</td>\n",
       "      <td>張信哲 (Jeff Chang)</td>\n",
       "      <td>董貞</td>\n",
       "      <td>何啟弘</td>\n",
       "      <td>3.0</td>\n",
       "      <td>41671</td>\n",
       "      <td>0</td>\n",
       "    </tr>\n",
       "    <tr>\n",
       "      <th>1</th>\n",
       "      <td>197328</td>\n",
       "      <td>444</td>\n",
       "      <td>BLACKPINK</td>\n",
       "      <td>TEDDY|  FUTURE BOUNCE|  Bekuh BOOM</td>\n",
       "      <td>TEDDY</td>\n",
       "      <td>31.0</td>\n",
       "      <td>3365</td>\n",
       "      <td>1</td>\n",
       "    </tr>\n",
       "    <tr>\n",
       "      <th>2</th>\n",
       "      <td>231781</td>\n",
       "      <td>465</td>\n",
       "      <td>SUPER JUNIOR</td>\n",
       "      <td>None</td>\n",
       "      <td>None</td>\n",
       "      <td>31.0</td>\n",
       "      <td>29563</td>\n",
       "      <td>2</td>\n",
       "    </tr>\n",
       "    <tr>\n",
       "      <th>3</th>\n",
       "      <td>273554</td>\n",
       "      <td>465</td>\n",
       "      <td>S.H.E</td>\n",
       "      <td>湯小康</td>\n",
       "      <td>徐世珍</td>\n",
       "      <td>3.0</td>\n",
       "      <td>29342</td>\n",
       "      <td>3</td>\n",
       "    </tr>\n",
       "    <tr>\n",
       "      <th>4</th>\n",
       "      <td>140329</td>\n",
       "      <td>726</td>\n",
       "      <td>貴族精選</td>\n",
       "      <td>Traditional</td>\n",
       "      <td>Traditional</td>\n",
       "      <td>52.0</td>\n",
       "      <td>44699</td>\n",
       "      <td>4</td>\n",
       "    </tr>\n",
       "  </tbody>\n",
       "</table>\n",
       "</div>"
      ],
      "text/plain": [
       "   song_length genre_ids       artist_name  \\\n",
       "0       247640       465  張信哲 (Jeff Chang)   \n",
       "1       197328       444         BLACKPINK   \n",
       "2       231781       465      SUPER JUNIOR   \n",
       "3       273554       465             S.H.E   \n",
       "4       140329       726              貴族精選   \n",
       "\n",
       "                             composer     lyricist  language  artist_id  \\\n",
       "0                                  董貞          何啟弘       3.0      41671   \n",
       "1  TEDDY|  FUTURE BOUNCE|  Bekuh BOOM        TEDDY      31.0       3365   \n",
       "2                                None         None      31.0      29563   \n",
       "3                                 湯小康          徐世珍       3.0      29342   \n",
       "4                         Traditional  Traditional      52.0      44699   \n",
       "\n",
       "   itemID  \n",
       "0       0  \n",
       "1       1  \n",
       "2       2  \n",
       "3       3  \n",
       "4       4  "
      ]
     },
     "execution_count": 5,
     "metadata": {},
     "output_type": "execute_result"
    }
   ],
   "source": [
    "song_df.head()"
   ]
  },
  {
   "cell_type": "markdown",
   "id": "c760a6a6",
   "metadata": {},
   "source": [
    "# 3. Data Cleaning\n",
    "\n",
    "Data cleaning is implemented in another notebook `Data_Cleaning.ipynb`. It has the following procedures:\n",
    "\n",
    "* item ID and user ID were replaced with integers, because original IDs were very long string data.\n",
    "* There are a lot of songs which do not appear in train and test data. They are removed from the original song list.\n",
    "* To fill NaN values with \"None\" in `source_system_tab` column of train and test data.  "
   ]
  },
  {
   "cell_type": "markdown",
   "id": "ca54f08e",
   "metadata": {},
   "source": [
    "**Count of NaN**"
   ]
  },
  {
   "cell_type": "code",
   "execution_count": 14,
   "id": "7bd70f7b",
   "metadata": {},
   "outputs": [
    {
     "data": {
      "text/plain": [
       "source_system_tab     0\n",
       "source_screen_name    0\n",
       "source_type           0\n",
       "rating                0\n",
       "userID                0\n",
       "itemID                0\n",
       "dtype: int64"
      ]
     },
     "execution_count": 14,
     "metadata": {},
     "output_type": "execute_result"
    }
   ],
   "source": [
    "train_df.isna().sum()"
   ]
  },
  {
   "cell_type": "code",
   "execution_count": 15,
   "id": "f24e716e",
   "metadata": {},
   "outputs": [
    {
     "data": {
      "text/plain": [
       "id                    0\n",
       "source_system_tab     0\n",
       "source_screen_name    0\n",
       "source_type           0\n",
       "userID                0\n",
       "itemID                0\n",
       "dtype: int64"
      ]
     },
     "execution_count": 15,
     "metadata": {},
     "output_type": "execute_result"
    }
   ],
   "source": [
    "test_df.isna().sum()"
   ]
  },
  {
   "cell_type": "markdown",
   "id": "3190f6cd",
   "metadata": {},
   "source": [
    "# 4. EDA and Feature Engineering"
   ]
  },
  {
   "cell_type": "markdown",
   "id": "25f99e86",
   "metadata": {},
   "source": [
    "### 4.1 Distribution\n",
    "\n",
    "**rating**\n",
    "\n",
    "In the train data, numbers of 0 and 1 are solmost similar. It is balanced."
   ]
  },
  {
   "cell_type": "code",
   "execution_count": 16,
   "id": "39a954f6",
   "metadata": {},
   "outputs": [
    {
     "data": {
      "text/plain": [
       "Text(0.5, 1.0, 'Distribution of rating(Y) in train data')"
      ]
     },
     "execution_count": 16,
     "metadata": {},
     "output_type": "execute_result"
    },
    {
     "data": {
      "image/png": "[encoded data removed]",
      "text/plain": [
       "<Figure size 432x288 with 1 Axes>"
      ]
     },
     "metadata": {
      "needs_background": "light"
     },
     "output_type": "display_data"
    }
   ],
   "source": [
    "fig, ax = plt.subplots()\n",
    "train_df[\"rating\"].hist(ax = ax)\n",
    "ax.set_title(\"Distribution of rating(Y) in train data\")"
   ]
  },
  {
   "cell_type": "markdown",
   "id": "1e3b8d04",
   "metadata": {},
   "source": [
    "**users**\n",
    "\n",
    "Number of samples of users ranges from 1 to more than 1000. The mode is 1, and distribution decreases as the number of samples increases. \n",
    "It shows that there are lots of users that cannot rely on collaborative approach only. "
   ]
  },
  {
   "cell_type": "code",
   "execution_count": 17,
   "id": "5738cc75",
   "metadata": {},
   "outputs": [
    {
     "data": {
      "image/png": "[encoded data removed]",
      "text/plain": [
       "<Figure size 432x288 with 1 Axes>"
      ]
     },
     "metadata": {
      "needs_background": "light"
     },
     "output_type": "display_data"
    }
   ],
   "source": [
    "fig, ax = plt.subplots()\n",
    "train_df[[\"userID\", \"rating\"]].groupby(\"userID\").count().hist(bins = 200, ax = ax)\n",
    "ax.set_xlim(0, 2000)\n",
    "ax.set_ylabel(\"count\")\n",
    "ax.set_xlabel(\"Number of samples per user\")\n",
    "ax.set_title(\"Number of samples per user in train data\")\n",
    "plt.show()"
   ]
  },
  {
   "cell_type": "markdown",
   "id": "cba4dc5c",
   "metadata": {},
   "source": [
    "**items**\n",
    "\n",
    "There are so many songs which has only one sample in train data. It makes histogram (left) harder to see, Histogram in Log scale (right one) shows that there are songs which have more than 10,000 samples. "
   ]
  },
  {
   "cell_type": "code",
   "execution_count": 18,
   "id": "35b86d9b",
   "metadata": {},
   "outputs": [
    {
     "data": {
      "image/png": "[encoded data removed]",
      "text/plain": [
       "<Figure size 864x288 with 2 Axes>"
      ]
     },
     "metadata": {
      "needs_background": "light"
     },
     "output_type": "display_data"
    }
   ],
   "source": [
    "fig, ax = plt.subplots(1,2, figsize = (12,4))\n",
    "train_df[[\"itemID\", \"rating\"]].groupby(\"itemID\").count().hist(bins = 100, ax = ax[1])\n",
    "train_df[[\"itemID\", \"rating\"]].groupby(\"itemID\").count().hist(bins = 100, ax = ax[0])\n",
    "ax[1].set_yscale(\"log\")\n",
    "ax[1].set_ylabel(\"log(count)\")\n",
    "ax[0].set_ylabel(\"count\")\n",
    "for i in range(2):\n",
    "    ax[i].set_xlabel(\"Number of samples per item\")\n",
    "    ax[i].set_title(\"Number of samples per item in train data\")\n",
    "plt.show()"
   ]
  },
  {
   "cell_type": "markdown",
   "id": "bc558949",
   "metadata": {},
   "source": [
    "### 4.2 Grouping \"source_system_tab\" to \"source_id\"\n",
    "\n",
    "`source_system_tab` is the most important basic feature, because there are significant difference of mean rating between sources. For example, `my library` has highest mean rating. Of course it is highest, because a song is added to library by a user. In contrast, `radio` is lowest in mean rating. It is also plausible because radio plays songs randomly, and user tends to forget its name. Furthermore, `discover`, `explore`, `search` would mean the same thing where user actively search songs. "
   ]
  },
  {
   "cell_type": "code",
   "execution_count": 120,
   "id": "76398389",
   "metadata": {},
   "outputs": [
    {
     "data": {
      "text/plain": [
       "Text(0.5, 1.0, 'Histogram')"
      ]
     },
     "execution_count": 120,
     "metadata": {},
     "output_type": "execute_result"
    },
    {
     "data": {
      "image/png": "[encoded data removed]",
      "text/plain": [
       "<Figure size 720x720 with 2 Axes>"
      ]
     },
     "metadata": {
      "needs_background": "light"
     },
     "output_type": "display_data"
    }
   ],
   "source": [
    "fig, ax = plt.subplots(2, figsize = (10, 10))\n",
    "train_df[[\"source_system_tab\", \"rating\"]].groupby(\"source_system_tab\").mean().rename({\"rating\":\"mean_rating\"}, axis = 1).plot(ax=ax[0], marker = \"o\")\n",
    "#ax.axhline(y = train_df[\"rating\"].mean(), ls = \"-.\", color = \"red\", label = \"global mean\")\n",
    "ax[0].set_ylim(0,1)\n",
    "ax[0].legend()\n",
    "ax[0].set_title(\"Mean rating in each source_system_tab\")\n",
    "\n",
    "train_df[[\"source_system_tab\", \"rating\"]].groupby(\"source_system_tab\").count().rename({\"rating\":\"count\"}, axis = 1).plot.bar(ax=ax[1])\n",
    "ax[1].set_title(\"Histogram\")"
   ]
  },
  {
   "cell_type": "markdown",
   "id": "d934da2c",
   "metadata": {},
   "source": [
    "**Gouping source and convert to integer**\n",
    "\n",
    "Based on mean rating and interpretation, similar values are grouped, and converted into integer."
   ]
  },
  {
   "cell_type": "code",
   "execution_count": 20,
   "id": "d91be95f",
   "metadata": {},
   "outputs": [],
   "source": [
    "g0_set = set([\"my library\", \"settings\"])\n",
    "g1_set = set([\"discover\", \"explore\", \"search\"])\n",
    "g2_set = set([\"listen with\", \"notification\"])\n",
    "g3_set = set([\"radio\"])\n",
    "\n",
    "def source_id(source):\n",
    "    \n",
    "    if source in g0_set:\n",
    "        return 0\n",
    "    \n",
    "    if source in g1_set:\n",
    "        return 1\n",
    "    \n",
    "    if source in g2_set:\n",
    "        return 2\n",
    "    \n",
    "    if source in g3_set:\n",
    "        return 3\n",
    "    \n",
    "    return 4\n",
    "    "
   ]
  },
  {
   "cell_type": "code",
   "execution_count": 21,
   "id": "c7416d63",
   "metadata": {},
   "outputs": [],
   "source": [
    "train_df[\"source_id\"] = train_df[\"source_system_tab\"].apply(lambda x: source_id(x))\n",
    "test_df[\"source_id\"] = test_df[\"source_system_tab\"].apply(lambda x: source_id(x))"
   ]
  },
  {
   "cell_type": "markdown",
   "id": "2a70059d",
   "metadata": {},
   "source": [
    "### 4.3 Time Series Feature: Time since the first play\n",
    "\n",
    "Raing of music must be sentitive in time. People get tired of popular songs after a while. Thus, mean rating should be decayed in time.\n",
    "Although there is no information about time in data, I assumed that index is allocated in time order. I created new feature `time_firstplay` which means the time when the song firstly played in the data. Then for all the songs in the data, `time_since_firstplay` is calculated. It is divided by $5.0 * 10^5$, because value is too large. "
   ]
  },
  {
   "cell_type": "code",
   "execution_count": 22,
   "id": "d380f8ab",
   "metadata": {},
   "outputs": [],
   "source": [
    "train_df[\"time\"] = np.arange(n_train)\n",
    "test_df[\"time\"] = np.arange(n_train, n_train + n_test)"
   ]
  },
  {
   "cell_type": "code",
   "execution_count": 23,
   "id": "54daf845",
   "metadata": {},
   "outputs": [],
   "source": [
    "time_first_df = pd.concat([train_df[[\"itemID\", \"time\"]], test_df[[\"itemID\", \"time\"]]]).groupby(\"itemID\").min().reset_index().rename({\"time\":\"time_firstplay\"}, axis = 1)"
   ]
  },
  {
   "cell_type": "code",
   "execution_count": 24,
   "id": "cf12d197",
   "metadata": {},
   "outputs": [],
   "source": [
    "train_df = train_df.merge(time_first_df, on = \"itemID\", how = \"left\")\n",
    "test_df = test_df.merge(time_first_df, on = \"itemID\", how = \"left\")\n",
    "train_df[\"time_since_firstplay\"] = (train_df[\"time\"] - train_df[\"time_firstplay\"])//(10**5*5)\n",
    "test_df[\"time_since_firstplay\"] = (test_df[\"time\"] - test_df[\"time_firstplay\"])//(10**5*5)"
   ]
  },
  {
   "cell_type": "markdown",
   "id": "ecaf188f",
   "metadata": {},
   "source": [
    "### 4.4 Song minutes\n",
    "\n",
    "`song_length` apparently shows the length of song in milliseconds scale. It is more convenient to convert it into minutes.\n"
   ]
  },
  {
   "cell_type": "code",
   "execution_count": 25,
   "id": "78208546",
   "metadata": {},
   "outputs": [],
   "source": [
    "song_df[\"song_minute\"] = np.round(song_df[\"song_length\"]/(10**3*60))"
   ]
  },
  {
   "cell_type": "code",
   "execution_count": 26,
   "id": "b741c4ee",
   "metadata": {},
   "outputs": [
    {
     "data": {
      "text/html": [
       "<div>\n",
       "<style scoped>\n",
       "    .dataframe tbody tr th:only-of-type {\n",
       "        vertical-align: middle;\n",
       "    }\n",
       "\n",
       "    .dataframe tbody tr th {\n",
       "        vertical-align: top;\n",
       "    }\n",
       "\n",
       "    .dataframe thead th {\n",
       "        text-align: right;\n",
       "    }\n",
       "</style>\n",
       "<table border=\"1\" class=\"dataframe\">\n",
       "  <thead>\n",
       "    <tr style=\"text-align: right;\">\n",
       "      <th></th>\n",
       "      <th>song_length</th>\n",
       "      <th>song_minute</th>\n",
       "    </tr>\n",
       "  </thead>\n",
       "  <tbody>\n",
       "    <tr>\n",
       "      <th>0</th>\n",
       "      <td>247640</td>\n",
       "      <td>4.0</td>\n",
       "    </tr>\n",
       "    <tr>\n",
       "      <th>1</th>\n",
       "      <td>197328</td>\n",
       "      <td>3.0</td>\n",
       "    </tr>\n",
       "    <tr>\n",
       "      <th>2</th>\n",
       "      <td>231781</td>\n",
       "      <td>4.0</td>\n",
       "    </tr>\n",
       "    <tr>\n",
       "      <th>3</th>\n",
       "      <td>273554</td>\n",
       "      <td>5.0</td>\n",
       "    </tr>\n",
       "    <tr>\n",
       "      <th>4</th>\n",
       "      <td>140329</td>\n",
       "      <td>2.0</td>\n",
       "    </tr>\n",
       "  </tbody>\n",
       "</table>\n",
       "</div>"
      ],
      "text/plain": [
       "   song_length  song_minute\n",
       "0       247640          4.0\n",
       "1       197328          3.0\n",
       "2       231781          4.0\n",
       "3       273554          5.0\n",
       "4       140329          2.0"
      ]
     },
     "execution_count": 26,
     "metadata": {},
     "output_type": "execute_result"
    }
   ],
   "source": [
    "song_df[[\"song_length\", \"song_minute\"]].head()"
   ]
  },
  {
   "cell_type": "markdown",
   "id": "82abd1d8",
   "metadata": {},
   "source": [
    "### 4.5 Artists' mean rating\n",
    "\n",
    "To add feature attributed to artist and song minute, `artist_id` and `song_minute` is merged to train and test data from the song list."
   ]
  },
  {
   "cell_type": "code",
   "execution_count": 27,
   "id": "45c3c444",
   "metadata": {},
   "outputs": [],
   "source": [
    "train_df = train_df.merge(song_df[[\"itemID\", \"artist_id\", \"song_minute\"]], on = \"itemID\", how = \"left\")\n",
    "test_df = test_df.merge(song_df[[\"itemID\", \"artist_id\", \"song_minute\"]], on = \"itemID\", how = \"left\")"
   ]
  },
  {
   "cell_type": "code",
   "execution_count": 28,
   "id": "068c7072",
   "metadata": {},
   "outputs": [],
   "source": [
    "# fill NaN with -1\n",
    "filter1 = train_df[\"artist_id\"].isna()\n",
    "train_df.loc[filter1, \"artist_id\"] = -1\n",
    "train_df[\"artist_id\"] = train_df[\"artist_id\"].astype(int)\n",
    "\n",
    "filter1 = test_df[\"artist_id\"].isna()\n",
    "test_df.loc[filter1, \"artist_id\"] = -1\n",
    "test_df[\"artist_id\"] = test_df[\"artist_id\"].astype(int)"
   ]
  },
  {
   "cell_type": "markdown",
   "id": "3fa6e8e1",
   "metadata": {},
   "source": [
    "### 4.6 Visualizing features"
   ]
  },
  {
   "cell_type": "markdown",
   "id": "e5d648fd",
   "metadata": {},
   "source": [
    "`feature_prob` function calculate mean rating of each value in labels (specified columns). It exclude validations data, and data with small number of counts (< min_count) are removed. It returns dictionary for prediction and dataframe for visualization."
   ]
  },
  {
   "cell_type": "code",
   "execution_count": 29,
   "id": "51173525",
   "metadata": {},
   "outputs": [],
   "source": [
    "def feature_prob(labels, n_val, min_count):\n",
    "        \n",
    "    n_train = train_df.shape[0]\n",
    "    \n",
    "    # to exclude validation data from feature\n",
    "    n_train2 = n_train - n_val\n",
    "    \n",
    "    select =  labels + [\"rating\"]\n",
    "    sum_df=train_df[select].iloc[:n_train2,:].groupby(labels).sum()\n",
    "    count_df=train_df[select].iloc[:n_train2,:].groupby(labels).count()\n",
    "    \n",
    "    # small count is removed from \n",
    "    p_df = (sum_df/count_df)\n",
    "    filter1 = count_df[\"rating\"] > min_count\n",
    "        \n",
    "    p_df = p_df.loc[filter1,:].reset_index()\n",
    "\n",
    "    key_array = p_df[labels].to_numpy()\n",
    "    val_array = p_df[\"rating\"].to_numpy()\n",
    "    \n",
    "    p_dic = {}\n",
    "    for i in range(key_array.shape[0]):\n",
    "        #print(key_array[i])\n",
    "        p_dic[tuple(key_array[i])] = val_array[i]\n",
    "    \n",
    "    return p_dic,p_df"
   ]
  },
  {
   "cell_type": "markdown",
   "id": "a3a98a9c",
   "metadata": {},
   "source": [
    "#### Validation Size\n",
    "\n",
    "Validation data is the latter 20% of train data. It means that the validation data is newer than train data.  Sklearn's train_test_split is NOT used because train and validation shall not be shuffled."
   ]
  },
  {
   "cell_type": "code",
   "execution_count": 30,
   "id": "e10f6a5d",
   "metadata": {},
   "outputs": [
    {
     "data": {
      "text/plain": [
       "1475483"
      ]
     },
     "execution_count": 30,
     "metadata": {},
     "output_type": "execute_result"
    }
   ],
   "source": [
    "n_val = int(n_train*0.2)\n",
    "n_val"
   ]
  },
  {
   "cell_type": "markdown",
   "id": "2e4982dc",
   "metadata": {},
   "source": [
    "**Features**\n",
    "\n",
    "Mean rating by `source_id` is called **global mean** in this report. Mean rating of `artist_id`, `song_minute`, `time_since_firstplay`, `itemID`, `userID` are calculated by each `source_id`. They are used for content-based approach."
   ]
  },
  {
   "cell_type": "code",
   "execution_count": 31,
   "id": "5f8730b5",
   "metadata": {},
   "outputs": [],
   "source": [
    "p_source_dic, p_source_df = feature_prob([\"source_id\"], n_val, 0)\n",
    "p_artist_dic, p_artist_df = feature_prob([\"artist_id\", \"source_id\"], n_val, 20)\n",
    "p_songmin_dic, p_songmin_df = feature_prob([\"song_minute\", \"source_id\"], n_val, 20)\n",
    "p_songage_dic, p_songage_df = feature_prob([\"time_since_firstplay\", \"source_id\"], n_val, 20)\n",
    "p_song_dic, p_song_df = feature_prob([\"itemID\", \"source_id\"], n_val, 20)\n",
    "p_user_dic, p_user_df = feature_prob([\"userID\", \"source_id\"], n_val, 20)"
   ]
  },
  {
   "cell_type": "markdown",
   "id": "38f1735b",
   "metadata": {},
   "source": [
    "### Global mean\n",
    "\n",
    "Mean rating by each source is called **global mean** in this project, because all the prediction methods will be divided by source."
   ]
  },
  {
   "cell_type": "code",
   "execution_count": 32,
   "id": "5035d31d",
   "metadata": {},
   "outputs": [
    {
     "data": {
      "text/plain": [
       "Text(0.5, 1.0, 'Global mean')"
      ]
     },
     "execution_count": 32,
     "metadata": {},
     "output_type": "execute_result"
    },
    {
     "data": {
      "image/png": "[encoded data removed]",
      "text/plain": [
       "<Figure size 432x288 with 1 Axes>"
      ]
     },
     "metadata": {
      "needs_background": "light"
     },
     "output_type": "display_data"
    }
   ],
   "source": [
    "fig, ax = plt.subplots()\n",
    "sns.barplot( data = p_source_df, x = \"source_id\", y = \"rating\", ax = ax)\n",
    "ax.set_ylim(0,1)\n",
    "ax.set_title(\"Global mean\")"
   ]
  },
  {
   "cell_type": "markdown",
   "id": "89044f43",
   "metadata": {},
   "source": [
    "### Artists' mean rating\n",
    "\n",
    "Artists' mean rating is distributed normally around global means. Standard deviation is not so small according to plots which indicates importance of artists as a feature for a recommender system. "
   ]
  },
  {
   "cell_type": "code",
   "execution_count": 127,
   "id": "006f38a9",
   "metadata": {},
   "outputs": [
    {
     "data": {
      "image/png": "[encoded data removed]",
      "text/plain": [
       "<Figure size 432x288 with 1 Axes>"
      ]
     },
     "metadata": {
      "needs_background": "light"
     },
     "output_type": "display_data"
    }
   ],
   "source": [
    "fig, ax = plt.subplots()\n",
    "for i in range(5):\n",
    "    filter1 = p_artist_df[\"source_id\"] == i\n",
    "    sns.kdeplot(data = p_artist_df.loc[filter1], x = \"rating\", label = \"source_id \" + str(i), ax = ax)\n",
    "\n",
    "ax.legend()\n",
    "ax.set_xlabel(\"artists' mean rating\")\n",
    "ax.set_title(\"Density plot of artists' mean rating\")\n",
    "plt.show()"
   ]
  },
  {
   "cell_type": "markdown",
   "id": "d65f80e8",
   "metadata": {},
   "source": [
    "### Song minutes' mean rating\n",
    "\n",
    "There are some trends in mean rating. For example, too short song (< 2 min) has lower values. Apparently 3-5 min songs are most popular in all sources.  "
   ]
  },
  {
   "cell_type": "code",
   "execution_count": 125,
   "id": "afe95529",
   "metadata": {},
   "outputs": [
    {
     "data": {
      "text/plain": [
       "Text(0.5, 1.0, 'song minute and mean rating')"
      ]
     },
     "execution_count": 125,
     "metadata": {},
     "output_type": "execute_result"
    },
    {
     "data": {
      "image/png": "[encoded data removed]",
      "text/plain": [
       "<Figure size 432x288 with 1 Axes>"
      ]
     },
     "metadata": {
      "needs_background": "light"
     },
     "output_type": "display_data"
    }
   ],
   "source": [
    "fig, ax = plt.subplots()\n",
    "sns.lineplot(data = p_songmin_df, x = \"song_minute\", y = \"rating\", hue = \"source_id\", palette = \"tab10\", marker = \"o\")\n",
    "ax.set_xlim(0, 12)\n",
    "ax.set_title(\"song minute and mean rating\")"
   ]
  },
  {
   "cell_type": "markdown",
   "id": "5fcfc4ac",
   "metadata": {},
   "source": [
    "### Mean rating in time since the first play\n",
    "\n",
    "As expected, mean rating decays as the time passes since the first play in the data. Interestingly, mean rating takes peak at 1 (not at 0). Parhaps it takes a while until songs become popular."
   ]
  },
  {
   "cell_type": "code",
   "execution_count": 35,
   "id": "1b5469eb",
   "metadata": {},
   "outputs": [
    {
     "data": {
      "text/plain": [
       "Text(0.5, 1.0, 'Mean rating of time since the first play')"
      ]
     },
     "execution_count": 35,
     "metadata": {},
     "output_type": "execute_result"
    },
    {
     "data": {
      "image/png": "[encoded data removed]",
      "text/plain": [
       "<Figure size 432x288 with 1 Axes>"
      ]
     },
     "metadata": {
      "needs_background": "light"
     },
     "output_type": "display_data"
    }
   ],
   "source": [
    "fig, ax = plt.subplots()\n",
    "sns.lineplot(data = p_songage_df, x = \"time_since_firstplay\", y = \"rating\", hue = \"source_id\", palette = \"tab10\", ax = ax)\n",
    "ax.set_ylim(0,1)\n",
    "ax.set_title(\"Mean rating of time since the first play\")"
   ]
  },
  {
   "cell_type": "markdown",
   "id": "97f5bbb8",
   "metadata": {},
   "source": [
    "# 5. Hybrid Recommender System"
   ]
  },
  {
   "cell_type": "markdown",
   "id": "50e65606",
   "metadata": {},
   "source": [
    "## 5.1 Content-based approach\n",
    "\n",
    "The function `content_based` predict rating according to features of songs. First it fills all values with global mean. Second, when featre is available, rating is predicted by mean of **artists' bias**, **song minutes' bias**, and **time since the first play bias** (called 'song age' in code).\n",
    "\n",
    "When number of samples per item is more than 20, item bias (mean rating) is considered. So does user bias. The function `content_itembias_mixed` predicts rating according to item bias. `mix_rate` is a parameter to be tuned. The function `userbias_mixed` does same for user bias. "
   ]
  },
  {
   "cell_type": "code",
   "execution_count": 100,
   "id": "e8b37294",
   "metadata": {},
   "outputs": [],
   "source": [
    "def content_based(source_array, artist_array, songage_array, songmin_array, max_songage):\n",
    "    \n",
    "    n = source_array.shape[0]\n",
    "    \n",
    "    yhat_array = np.zeros(n)\n",
    "    \n",
    "    #global mean\n",
    "    for i in range(n):\n",
    "        yhat_array[i] = p_source_dic[(source_array[i],)]\n",
    "    \n",
    "    for i in range(n):\n",
    "        source = source_array[i]\n",
    "        artist = artist_array[i]\n",
    "        songage = songage_array[i]\n",
    "        songmin = songmin_array[i]\n",
    "\n",
    "        age = min(max_songage, songage)\n",
    "\n",
    "        hasvalue = False\n",
    "        \n",
    "        # to select value from feature dictionary. When no value, it is nan.\n",
    "\n",
    "        try:\n",
    "            val1 = p_artist_dic[(artist, source)]\n",
    "            hasvalue = True\n",
    "        except KeyError:\n",
    "            val1 = np.nan\n",
    "\n",
    "        try:\n",
    "            val2 = p_songmin_dic[(songmin, source)]\n",
    "            hasvalue = True\n",
    "        except KeyError:\n",
    "            val2 = np.nan\n",
    "\n",
    "        try:\n",
    "            val3 = p_songage_dic[(songage, source)]\n",
    "            hasvalue = True\n",
    "        except KeyError:\n",
    "            val3 = np.nan\n",
    "\n",
    "        #When at least one feature provided value, mean value is calculated \n",
    "        if hasvalue:\n",
    "            yhat_array[i] = np.nanmean([val1, val2, val3])\n",
    "    \n",
    "    return yhat_array"
   ]
  },
  {
   "cell_type": "code",
   "execution_count": 54,
   "id": "5839cbca",
   "metadata": {},
   "outputs": [],
   "source": [
    "def content_itembias_mixed(yhat_array, song_array, source_array, mix_rate):\n",
    "    \n",
    "    #yhat_array: already predicted value of rating. It is updated as 'yhat_array2' by this function\n",
    "    \n",
    "    #to copy array first. To avoid bug.\n",
    "    yhat_array2 = yhat_array.copy()\n",
    "    n = yhat_array.shape[0]\n",
    "    \n",
    "    count = 0\n",
    "    for i in range(n):\n",
    "        try:\n",
    "            count += 1\n",
    "            #select value from song bias dictionary. weighted by `mix_rate`\n",
    "            yhat_array2[i] = (p_song_dic[(song_array[i], source_array[i])])*mix_rate + (1-mix_rate)*yhat_array2[i]\n",
    "        except KeyError:\n",
    "            pass \n",
    "        \n",
    "    ratio = count/n*100\n",
    "    \n",
    "    print(np.round(ratio), \"% of data is predicted by item bias\")\n",
    "        \n",
    "    return yhat_array2\n",
    "\n",
    "def userbias_mixed(yhat_array, member_array, source_array, mix_rate):\n",
    "\n",
    "    #yhat_array: already predicted value of rating. It is updated as 'yhat_array2' by this function\n",
    "    \n",
    "    n = yhat_array.shape[0]\n",
    "    \n",
    "    #to copy array first. To avoid bug.\n",
    "    yhat_array2 = yhat_array.copy()\n",
    "    \n",
    "    count = 0\n",
    "    for i in range(n):\n",
    "        try:\n",
    "            count += 1\n",
    "            yhat_array2[i] = (p_user_dic[(member_array[i], source_array[i])])*mix_rate + (1-mix_rate)*yhat_array2[i]\n",
    "        except KeyError:\n",
    "            pass\n",
    "        \n",
    "        \n",
    "    ratio = count/n*100\n",
    "    \n",
    "    print(np.round(ratio), \"% of data is predicted by user bias\")\n",
    "    \n",
    "    return yhat_array2"
   ]
  },
  {
   "cell_type": "code",
   "execution_count": 38,
   "id": "6aae1a77",
   "metadata": {},
   "outputs": [],
   "source": [
    "song_val = train_df[\"itemID\"].iloc[-n_val:].to_numpy()\n",
    "member_val =  train_df[\"userID\"].iloc[-n_val:].to_numpy()\n",
    "y_val = train_df[\"rating\"].iloc[-n_val:].to_numpy()\n",
    "source_val =  train_df[\"source_id\"].iloc[-n_val:].to_numpy()\n",
    "artist_val = train_df[\"artist_id\"].iloc[-n_val:].to_numpy()\n",
    "songmin_val = train_df[\"song_minute\"].iloc[-n_val:].to_numpy()\n",
    "songage_val = train_df[\"time_since_firstplay\"].iloc[-n_val:].to_numpy()"
   ]
  },
  {
   "cell_type": "markdown",
   "id": "fef4af49",
   "metadata": {},
   "source": [
    "### Content based (feature only)\n",
    "\n",
    "The result is auc 0.6046. It is better than random guess, but still not as good as KKBox bench mark (0.6133). "
   ]
  },
  {
   "cell_type": "code",
   "execution_count": 39,
   "id": "82d54108",
   "metadata": {},
   "outputs": [],
   "source": [
    "yhat_val = content_based(source_val, artist_val, songage_val, songmin_val, max_songage = 11)"
   ]
  },
  {
   "cell_type": "code",
   "execution_count": 40,
   "id": "b48e138c",
   "metadata": {},
   "outputs": [
    {
     "name": "stdout",
     "output_type": "stream",
     "text": [
      "auc 0.6045991233289622\n"
     ]
    }
   ],
   "source": [
    "fpr, tpr, thresholds = metrics.roc_curve(y_val, yhat_val, pos_label=1)\n",
    "auc_content = metrics.auc(fpr, tpr)\n",
    "print(\"auc\", auc_content)"
   ]
  },
  {
   "cell_type": "markdown",
   "id": "77276171",
   "metadata": {},
   "source": [
    "### Item bias mixed\n",
    "\n",
    "Item bias contributed auc (0.6217). The best hyper parameter is  `mix_rate = 1`."
   ]
  },
  {
   "cell_type": "code",
   "execution_count": 41,
   "id": "2bcdeba3",
   "metadata": {},
   "outputs": [],
   "source": [
    "yhat_val2 = yhat_val.copy()\n",
    "mix_rates = [0.3, 0.5, 0.7, 1.0]\n",
    "score = []\n",
    "for mix_rate in mix_rates:\n",
    "    yhat_val2 = content_itembias_mixed(yhat_val, song_val, source_val, mix_rate)\n",
    "    fpr, tpr, thresholds = metrics.roc_curve(y_val, yhat_val2, pos_label=1)\n",
    "    score.append(metrics.auc(fpr, tpr))\n"
   ]
  },
  {
   "cell_type": "code",
   "execution_count": 42,
   "id": "861ab83a",
   "metadata": {},
   "outputs": [
    {
     "data": {
      "text/plain": [
       "Text(0.5, 1.0, 'AUC of content-based with item bias')"
      ]
     },
     "execution_count": 42,
     "metadata": {},
     "output_type": "execute_result"
    },
    {
     "data": {
      "image/png": "[encoded data removed]",
      "text/plain": [
       "<Figure size 432x288 with 1 Axes>"
      ]
     },
     "metadata": {
      "needs_background": "light"
     },
     "output_type": "display_data"
    }
   ],
   "source": [
    "fig, ax = plt.subplots()\n",
    "ax.plot(mix_rates, score, marker  = \"x\")\n",
    "ax.set_xlabel(\"mix rate of item bias\")\n",
    "ax.set_title(\"AUC of content-based with item bias\")"
   ]
  },
  {
   "cell_type": "code",
   "execution_count": 43,
   "id": "b8ef4b5e",
   "metadata": {},
   "outputs": [
    {
     "name": "stdout",
     "output_type": "stream",
     "text": [
      "auc 0.621679702535197\n"
     ]
    }
   ],
   "source": [
    "yhat_val2 = content_itembias_mixed(yhat_val, song_val, source_val, mix_rate = 1)\n",
    "fpr, tpr, thresholds = metrics.roc_curve(y_val, yhat_val2, pos_label=1)\n",
    "auc_content_item = metrics.auc(fpr, tpr)\n",
    "print(\"auc\", auc_content_item)"
   ]
  },
  {
   "cell_type": "markdown",
   "id": "abde6272",
   "metadata": {},
   "source": [
    "### user bias mixed\n",
    "\n",
    "User bias improved auc significantly (0.6568). The best mix_rate = 0.5. "
   ]
  },
  {
   "cell_type": "code",
   "execution_count": 44,
   "id": "f0452deb",
   "metadata": {},
   "outputs": [],
   "source": [
    "mix_rates = [0.3, 0.5, 0.7, 1.0]\n",
    "score = []\n",
    "for mix_rate in mix_rates:\n",
    "    yhat_val3 = userbias_mixed(yhat_val2, member_val, source_val, mix_rate)\n",
    "    fpr, tpr, thresholds = metrics.roc_curve(y_val, yhat_val3, pos_label=1)\n",
    "    score.append(metrics.auc(fpr, tpr))\n"
   ]
  },
  {
   "cell_type": "code",
   "execution_count": 85,
   "id": "4bc7dbaa",
   "metadata": {},
   "outputs": [
    {
     "data": {
      "text/plain": [
       "Text(0.5, 1.0, 'AUC when user bias is mixed')"
      ]
     },
     "execution_count": 85,
     "metadata": {},
     "output_type": "execute_result"
    },
    {
     "data": {
      "image/png": "[encoded data removed]",
      "text/plain": [
       "<Figure size 432x288 with 1 Axes>"
      ]
     },
     "metadata": {
      "needs_background": "light"
     },
     "output_type": "display_data"
    }
   ],
   "source": [
    "fig, ax = plt.subplots()\n",
    "plt.plot(mix_rates, score, marker = \"o\")\n",
    "ax.set_xlabel(\"mix rate of user bias\")\n",
    "ax.set_title(\"AUC when user bias is mixed\")"
   ]
  },
  {
   "cell_type": "code",
   "execution_count": 46,
   "id": "74f8391f",
   "metadata": {},
   "outputs": [
    {
     "name": "stdout",
     "output_type": "stream",
     "text": [
      "auc 0.6565790255664664\n"
     ]
    }
   ],
   "source": [
    "yhat_val3 = userbias_mixed(yhat_val2, member_val, source_val, mix_rate = 0.5)\n",
    "fpr, tpr, thresholds = metrics.roc_curve(y_val, yhat_val3, pos_label=1)\n",
    "auc_content_user = metrics.auc(fpr, tpr)\n",
    "print(\"auc\", auc_content_user)"
   ]
  },
  {
   "cell_type": "markdown",
   "id": "19b6a0c7",
   "metadata": {},
   "source": [
    "## 5.2 Collaborative method (tuning and model selection)"
   ]
  },
  {
   "cell_type": "markdown",
   "id": "550343e2",
   "metadata": {},
   "source": [
    "`collaborative_data` select items and users which have more than minimum required samples, and create data for collaborative method. `collaborative_mixed` predict rating by trained model with mix_rate."
   ]
  },
  {
   "cell_type": "code",
   "execution_count": 47,
   "id": "a51796de",
   "metadata": {},
   "outputs": [],
   "source": [
    "def collaborative_data(n_val, min_user, min_item):\n",
    "    \n",
    "    n_train = train_df.shape[0]\n",
    "    \n",
    "    # to exclude validation data \n",
    "    n_train2 = n_train - n_val\n",
    "    \n",
    "    train_df2 = train_df.iloc[:n_train2,:]\n",
    "    \n",
    "    # query to remove minor item and users\n",
    "    query1 =  \"rating >\" + str(min_user)\n",
    "    query2 =  \"rating >\" + str(min_item)\n",
    "    \n",
    "    # create user and item list\n",
    "    user_list = train_df2[[\"userID\", \"rating\"]].groupby(\"userID\").count().query(query1).reset_index()[\"userID\"].to_numpy()\n",
    "    item_list = train_df2[[\"itemID\", \"rating\"]].query(\"itemID >= 0\").groupby(\"itemID\").count().query(query2).reset_index()[\"itemID\"].to_numpy()\n",
    "    \n",
    "    user_set = set(user_list)\n",
    "    item_set = set(item_list)\n",
    "\n",
    "    #filter out minor items and users\n",
    "    filter1 = (train_df2[\"userID\"].apply(lambda x: x in user_set)) & (train_df2[\"itemID\"].apply(lambda x: x in item_set)) \n",
    "\n",
    "    train_df3 = train_df2[[\"userID\", \"itemID\", \"source_id\", \"rating\"]].loc[filter1]\n",
    "    \n",
    "    print(len(user_set),\"users, \",  len(item_set), \"items\")\n",
    "    \n",
    "    return train_df3\n",
    "    "
   ]
  },
  {
   "cell_type": "code",
   "execution_count": 81,
   "id": "ca13f09c",
   "metadata": {},
   "outputs": [],
   "source": [
    "def collaborative_mixed(model_collab, yhat_array,  member_array, song_array, source_array, item_set, user_set, mix_rate):\n",
    "    n = yhat_array.shape[0]\n",
    "    yhat_array2 = yhat_array.copy()\n",
    "    count = 0\n",
    "    time1 = time.time()\n",
    "    \n",
    "    for i in range(n):\n",
    "        user = member_array[i]\n",
    "        item = song_array[i]\n",
    "        source = source_array[i]\n",
    "\n",
    "        if (item in item_set) and (user in user_set):\n",
    "            count += 1\n",
    "            yhat_array2[i] = model_collab[source].predict(user, item, verbose=False).est*mix_rate + (1-mix_rate)*yhat_array2[i]\n",
    "\n",
    "    ratio = count/n*100\n",
    "    \n",
    "    print(np.round(ratio), \"% of data is predicted by collaborative approach\")\n",
    "    \n",
    "    time2 = time.time()\n",
    "    time3 = np.round(time2 - time1)\n",
    "    print(\"calculation time \", time3, \"sec\")\n",
    "    \n",
    "    return yhat_array2\n",
    "    "
   ]
  },
  {
   "cell_type": "markdown",
   "id": "046c464a",
   "metadata": {},
   "source": [
    "### SVD: hyperparameter tuning "
   ]
  },
  {
   "cell_type": "markdown",
   "id": "7e604029",
   "metadata": {},
   "source": [
    "To develop train data for collaborative method, rare items and users should be removed to avoid **cold start problem**. This selection also reduces memory usage."
   ]
  },
  {
   "cell_type": "code",
   "execution_count": 49,
   "id": "599da979",
   "metadata": {},
   "outputs": [
    {
     "name": "stdout",
     "output_type": "stream",
     "text": [
      "22264 users,  29640 items\n"
     ]
    }
   ],
   "source": [
    "svd_df = collaborative_data(n_val, min_user = 20, min_item = 20)\n",
    "user_set_svd = set(svd_df[\"userID\"].to_numpy())\n",
    "item_set_svd = set(svd_df[\"itemID\"].to_numpy())"
   ]
  },
  {
   "cell_type": "markdown",
   "id": "f1a0bd73",
   "metadata": {},
   "source": [
    "To convert data for `surprise` package, its Reader object is required. Train data is divided into each `source_id` (refer to chapter 4) to develop model by each source. "
   ]
  },
  {
   "cell_type": "code",
   "execution_count": 50,
   "id": "c1b95649",
   "metadata": {},
   "outputs": [],
   "source": [
    "reader = Reader(rating_scale=(0, 1))"
   ]
  },
  {
   "cell_type": "code",
   "execution_count": 51,
   "id": "d9737087",
   "metadata": {},
   "outputs": [],
   "source": [
    "data_svd = []\n",
    "for source in range(5):\n",
    "    filter1 = svd_df[\"source_id\"] == source\n",
    "    data_svd.append(Dataset.load_from_df(svd_df[[\"userID\", \"itemID\", \"rating\"]].loc[filter1,:], reader).build_full_trainset())"
   ]
  },
  {
   "cell_type": "markdown",
   "id": "27b70c40",
   "metadata": {},
   "source": [
    "**train and hyperparameter tuning**\n",
    "\n",
    "`SVD_train` function trains SVD model with specified `n_factor` (number of latent features). Hyperparameter of this model is `n_factor` of SVD and `mix_rate`. "
   ]
  },
  {
   "cell_type": "code",
   "execution_count": 52,
   "id": "ee4e38d7",
   "metadata": {},
   "outputs": [],
   "source": [
    "def SVD_train(n_factor, data_list):\n",
    "    \n",
    "    time1 = time.time()\n",
    "    \n",
    "    model_sp = []\n",
    "    #algo = SVD(n_factors = n_factor, n_epochs = 40)\n",
    "    for i in range(5):\n",
    "        print(\"train model for source\", i)\n",
    "\n",
    "        model_sp.append(SVD(n_factors = n_factor, n_epochs = 40, random_state = 0).fit(data_list[i]))\n",
    "        \n",
    "    time2 = time.time()\n",
    "    \n",
    "    print(\"train time \", np.round(time2 - time1), \"sec\")\n",
    "    \n",
    "    return model_sp"
   ]
  },
  {
   "cell_type": "code",
   "execution_count": 53,
   "id": "18be47b1",
   "metadata": {},
   "outputs": [
    {
     "name": "stdout",
     "output_type": "stream",
     "text": [
      "svd n_factor 15\n",
      "train model for source 0\n",
      "train model for source 1\n",
      "train model for source 2\n",
      "train model for source 3\n",
      "train model for source 4\n",
      "train time  110.0 sec\n",
      "mix_rate 0.3 auc 0.6639652773849642\n",
      "mix_rate 0.5 auc 0.6657576279887057\n",
      "mix_rate 0.7 auc 0.6658035763821014\n",
      "mix_rate 1.0 auc 0.6639238667278499\n",
      "svd n_factor 25\n",
      "train model for source 0\n",
      "train model for source 1\n",
      "train model for source 2\n",
      "train model for source 3\n",
      "train model for source 4\n",
      "train time  127.0 sec\n",
      "mix_rate 0.3 auc 0.664157109302922\n",
      "mix_rate 0.5 auc 0.6659476577115482\n",
      "mix_rate 0.7 auc 0.6659227877450445\n",
      "mix_rate 1.0 auc 0.6638608872735827\n",
      "svd n_factor 40\n",
      "train model for source 0\n",
      "train model for source 1\n",
      "train model for source 2\n",
      "train model for source 3\n",
      "train model for source 4\n",
      "train time  143.0 sec\n",
      "mix_rate 0.3 auc 0.6641147056197373\n",
      "mix_rate 0.5 auc 0.6657711453845717\n",
      "mix_rate 0.7 auc 0.6655750635659111\n",
      "mix_rate 1.0 auc 0.6632575883105313\n",
      "svd n_factor 60\n",
      "train model for source 0\n",
      "train model for source 1\n",
      "train model for source 2\n",
      "train model for source 3\n",
      "train model for source 4\n",
      "train time  171.0 sec\n",
      "mix_rate 0.3 auc 0.6642175270710775\n",
      "mix_rate 0.5 auc 0.6657897278351593\n",
      "mix_rate 0.7 auc 0.6654379283826932\n",
      "mix_rate 1.0 auc 0.6628432455526934\n"
     ]
    }
   ],
   "source": [
    "n_factors = [15, 25, 40, 60]\n",
    "mix_rates = [0.3, 0.5, 0.7, 1.0]\n",
    "\n",
    "scores_list_svd = []\n",
    "model_svd_list = []\n",
    "\n",
    "for n_factor in n_factors:\n",
    "    print(\"svd n_factor\", n_factor)\n",
    "    scores = []\n",
    "    model_svd = SVD_train(n_factor, data_svd)\n",
    "    model_svd_list.append(model_svd)\n",
    "    \n",
    "    for mix_rate in mix_rates:\n",
    "        \n",
    "        yhat_val4 = collaborative_mixed(model_svd, yhat_val3,  member_val, song_val, source_val,item_set_svd, user_set_svd, mix_rate)\n",
    "        fpr, tpr, thresholds = metrics.roc_curve(y_val, yhat_val4, pos_label=1)\n",
    "        auc = metrics.auc(fpr, tpr)\n",
    "        print(\"mix_rate\",mix_rate, \"auc\", auc)\n",
    "        scores.append(auc)\n",
    "        \n",
    "    scores_list_svd.append(scores)\n"
   ]
  },
  {
   "cell_type": "code",
   "execution_count": 86,
   "id": "d5ed9361",
   "metadata": {},
   "outputs": [
    {
     "data": {
      "text/plain": [
       "Text(0.5, 1.0, 'Hybrid Recommender System score')"
      ]
     },
     "execution_count": 86,
     "metadata": {},
     "output_type": "execute_result"
    },
    {
     "data": {
      "image/png": "[encoded data removed]",
      "text/plain": [
       "<Figure size 432x288 with 1 Axes>"
      ]
     },
     "metadata": {
      "needs_background": "light"
     },
     "output_type": "display_data"
    }
   ],
   "source": [
    "fig, ax = plt.subplots()\n",
    "\n",
    "for i in range(4):\n",
    "    ax.plot(mix_rates, scores_list_svd[i], label = \"n_factor \" + str(n_factors[i]), marker = \"o\")\n",
    "    \n",
    "ax.legend()\n",
    "ax.set_ylabel(\"auc\")\n",
    "ax.set_xlabel(\"mix rate\")\n",
    "ax.set_title(\"Hybrid Recommender System score\")"
   ]
  },
  {
   "cell_type": "markdown",
   "id": "aec7ac8c",
   "metadata": {},
   "source": [
    "**The best hyperparameter**\n",
    "\n",
    "The best hypter-parameter is n_factor = 25 and mix_rate = 0.5.\n",
    "It improved auc to 0.6659. It means that SVD works well. Furthermore, time for training and prediction are both short (**low computation cost**). "
   ]
  },
  {
   "cell_type": "code",
   "execution_count": 82,
   "id": "b4f50bbb",
   "metadata": {},
   "outputs": [
    {
     "name": "stdout",
     "output_type": "stream",
     "text": [
      "69.0 % of data is predicted by collaborative approach\n",
      "calculation time  16.0 sec\n"
     ]
    }
   ],
   "source": [
    "mix_rate = 0.5\n",
    "yhat_val4 = collaborative_mixed(model_svd_list[1], yhat_val3,  member_val, song_val, source_val, item_set_svd, user_set_svd, mix_rate)"
   ]
  },
  {
   "cell_type": "code",
   "execution_count": 83,
   "id": "7341a382",
   "metadata": {},
   "outputs": [
    {
     "name": "stdout",
     "output_type": "stream",
     "text": [
      "auc 0.6659476577115482\n"
     ]
    }
   ],
   "source": [
    "fpr, tpr, thresholds = metrics.roc_curve(y_val, yhat_val4, pos_label=1)\n",
    "auc_svd = metrics.auc(fpr, tpr)\n",
    "print(\"auc\", auc_svd)"
   ]
  },
  {
   "cell_type": "markdown",
   "id": "1db33669",
   "metadata": {},
   "source": [
    "### KNN\n",
    "\n",
    "Another typical approac is KNN collaborative method. It first calculate similarity matrix, then rating is predicted by weighted mean of top K nearest neighbours. To compute similarity matrix, RAM size is critical, thus the number of user and item should be smaller than SVD method. Furthermore, calculation time is longer for both train and prediction."
   ]
  },
  {
   "cell_type": "code",
   "execution_count": 62,
   "id": "5a5a7d2e",
   "metadata": {},
   "outputs": [
    {
     "name": "stdout",
     "output_type": "stream",
     "text": [
      "10197 users,  14567 items\n"
     ]
    }
   ],
   "source": [
    "knn_df = collaborative_data(n_val, min_user = 200, min_item = 50)\n",
    "user_set_knn = set(knn_df[\"userID\"].to_numpy())\n",
    "item_set_knn = set(knn_df[\"itemID\"].to_numpy())"
   ]
  },
  {
   "cell_type": "code",
   "execution_count": 63,
   "id": "0c241cae",
   "metadata": {},
   "outputs": [],
   "source": [
    "data_knn = []\n",
    "for source in range(5):\n",
    "    filter1 = knn_df[\"source_id\"] == source\n",
    "    data_knn.append(Dataset.load_from_df(knn_df[[\"userID\", \"itemID\", \"rating\"]].loc[filter1,:], reader).build_full_trainset())"
   ]
  },
  {
   "cell_type": "markdown",
   "id": "e7b84376",
   "metadata": {},
   "source": [
    "KNN of surprise package can choose `user_based` or `item_based` for calculating similarity and bias. Unfortunately it, cannot use user_bias + item-item similarity. It can use **user_bias + user-user sim** or **item_bias + item-item sim**. Since the user bias increased auc a lot in content-based, `user_biased` parameter should be `True`."
   ]
  },
  {
   "cell_type": "code",
   "execution_count": 66,
   "id": "b9bed74d",
   "metadata": {},
   "outputs": [],
   "source": [
    "def KNNWithMeans_train(data_list):\n",
    "    sim_options = {\n",
    "    \"name\": \"pearson_baseline\",\n",
    "    \"user_based\": True, \n",
    "    }\n",
    "    \n",
    "    time1 = time.time()\n",
    "    \n",
    "    model_sp = []\n",
    "    for i in range(5):\n",
    "        print(\"train model for source\", i)\n",
    "\n",
    "        model_sp.append(KNNWithMeans(k = 30,sim_options=sim_options).fit(data_list[i]))\n",
    "    \n",
    "    time2 = time.time()\n",
    "    \n",
    "    print(\"train time \", np.round(time2 - time1), \"sec\")\n",
    "    \n",
    "    return model_sp"
   ]
  },
  {
   "cell_type": "code",
   "execution_count": 67,
   "id": "3bbe60a2",
   "metadata": {},
   "outputs": [
    {
     "name": "stdout",
     "output_type": "stream",
     "text": [
      "train model for source 0\n",
      "Estimating biases using als...\n",
      "Computing the pearson_baseline similarity matrix...\n",
      "Done computing similarity matrix.\n",
      "train model for source 1\n",
      "Estimating biases using als...\n",
      "Computing the pearson_baseline similarity matrix...\n",
      "Done computing similarity matrix.\n",
      "train model for source 2\n",
      "Estimating biases using als...\n",
      "Computing the pearson_baseline similarity matrix...\n",
      "Done computing similarity matrix.\n",
      "train model for source 3\n",
      "Estimating biases using als...\n",
      "Computing the pearson_baseline similarity matrix...\n",
      "Done computing similarity matrix.\n",
      "train model for source 4\n",
      "Estimating biases using als...\n",
      "Computing the pearson_baseline similarity matrix...\n",
      "Done computing similarity matrix.\n",
      "train time  770.0 sec\n"
     ]
    }
   ],
   "source": [
    "model_KNNWithMeans = KNNWithMeans_train(data_knn)"
   ]
  },
  {
   "cell_type": "code",
   "execution_count": 84,
   "id": "107a1987",
   "metadata": {},
   "outputs": [
    {
     "name": "stdout",
     "output_type": "stream",
     "text": [
      "44.0 % of data is predicted by collaborative approach\n",
      "calculation time  481.0 sec\n",
      "auc 0.6569478381391844\n"
     ]
    }
   ],
   "source": [
    "mix_rate = 1\n",
    "yhat_val5 = collaborative_mixed(model_KNNWithMeans, yhat_val3,  member_val, song_val, source_val, item_set_knn, user_set_knn, mix_rate)\n",
    "fpr, tpr, thresholds = metrics.roc_curve(y_val, yhat_val5, pos_label=1)\n",
    "auc_knn = metrics.auc(fpr, tpr)\n",
    "print(\"auc\", auc_knn)"
   ]
  },
  {
   "cell_type": "markdown",
   "id": "51ad6839",
   "metadata": {},
   "source": [
    "As a result, KNN slightly improved auc, but not as good as SVD. Memory usage of similarity for KNN is much larger than SVD, so I decreased number of item and users. Furthermore, both **training and prediction took more than 10 times longer than SVD**. Therefore, I select SVD as collaborative method. "
   ]
  },
  {
   "cell_type": "markdown",
   "id": "ac2ec393",
   "metadata": {},
   "source": [
    "## 5.3 Validation Results"
   ]
  },
  {
   "cell_type": "markdown",
   "id": "e8426c62",
   "metadata": {},
   "source": [
    "In this hybrid recommender sytem, four methods are mixed by tuned **mix_rate** and **hyperparameters**. As layer goes deeper, auc is improved as shown in the figure."
   ]
  },
  {
   "cell_type": "code",
   "execution_count": 87,
   "id": "168e3447",
   "metadata": {},
   "outputs": [],
   "source": [
    "methods = [\"feature only content-based (CB)\", \"CB + item bias\", \"CB + item bias + user bias\", \"Hybrid: CB + item bias + user bias + SVD\"]\n",
    "auc_models = [auc_content, auc_content_item, auc_content_user, auc_svd]\n",
    "result_df = pd.DataFrame({\"method\": methods, \"auc\": auc_models})"
   ]
  },
  {
   "cell_type": "code",
   "execution_count": 110,
   "id": "068666ce",
   "metadata": {},
   "outputs": [
    {
     "data": {
      "text/plain": [
       "Text(0.5, 1.0, 'Validation result')"
      ]
     },
     "execution_count": 110,
     "metadata": {},
     "output_type": "execute_result"
    },
    {
     "data": {
      "image/png": "[encoded data removed]",
      "text/plain": [
       "<Figure size 360x216 with 1 Axes>"
      ]
     },
     "metadata": {
      "needs_background": "light"
     },
     "output_type": "display_data"
    }
   ],
   "source": [
    "fig, ax = plt.subplots(figsize = (5, 3))\n",
    "sns.lineplot(data = result_df, y = \"method\", x = \"auc\", marker = \"o\")\n",
    "ax.set_title(\"Validation result\")"
   ]
  },
  {
   "cell_type": "markdown",
   "id": "915caaa4",
   "metadata": {},
   "source": [
    "# 6. Test\n",
    "## 6.1 Submission to Kaggle\n",
    "\n",
    "Rating for test data is predicted in the same way. First, mean rating of feature is calculated. `n_val` (validation size) is zero. "
   ]
  },
  {
   "cell_type": "code",
   "execution_count": 91,
   "id": "183e11ba",
   "metadata": {},
   "outputs": [],
   "source": [
    "n_val = 0\n",
    "p_source_dic, p_source_df = feature_prob([\"source_id\"], n_val, 0)\n",
    "p_artist_dic, p_artist_df = feature_prob([\"artist_id\", \"source_id\"], n_val, 20)\n",
    "p_songmin_dic, p_songmin_df = feature_prob([\"song_minute\", \"source_id\"], n_val, 20)\n",
    "p_songage_dic, p_songage_df = feature_prob([\"time_since_firstplay\", \"source_id\"], n_val, 20)\n",
    "p_song_dic, p_song_df = feature_prob([\"itemID\", \"source_id\"], n_val, 20)\n",
    "p_user_dic, p_user_df = feature_prob([\"userID\", \"source_id\"], n_val, 20)"
   ]
  },
  {
   "cell_type": "markdown",
   "id": "f72e1130",
   "metadata": {},
   "source": [
    "Select item and users above threshold (20), and create data for `surprise` package."
   ]
  },
  {
   "cell_type": "code",
   "execution_count": 92,
   "id": "1c451624",
   "metadata": {},
   "outputs": [
    {
     "name": "stdout",
     "output_type": "stream",
     "text": [
      "24134 users,  35487 items\n"
     ]
    }
   ],
   "source": [
    "svd_df = collaborative_data(n_val, min_user = 20, min_item = 20)\n",
    "user_set_svd = set(svd_df[\"userID\"].to_numpy())\n",
    "item_set_svd = set(svd_df[\"itemID\"].to_numpy())"
   ]
  },
  {
   "cell_type": "code",
   "execution_count": 93,
   "id": "9696d58d",
   "metadata": {},
   "outputs": [],
   "source": [
    "data_svd = []\n",
    "for source in range(5):\n",
    "    filter1 = svd_df[\"source_id\"] == source\n",
    "    data_svd.append(Dataset.load_from_df(svd_df[[\"userID\", \"itemID\", \"rating\"]].loc[filter1,:], reader).build_full_trainset())"
   ]
  },
  {
   "cell_type": "markdown",
   "id": "6998dd35",
   "metadata": {},
   "source": [
    "training for test data takes only few minutes."
   ]
  },
  {
   "cell_type": "code",
   "execution_count": 94,
   "id": "8c745f7a",
   "metadata": {},
   "outputs": [
    {
     "name": "stdout",
     "output_type": "stream",
     "text": [
      "train model for source 0\n",
      "train model for source 1\n",
      "train model for source 2\n",
      "train model for source 3\n",
      "train model for source 4\n",
      "train time  163.0 sec\n"
     ]
    }
   ],
   "source": [
    "model_svd = SVD_train(25, data_svd)"
   ]
  },
  {
   "cell_type": "code",
   "execution_count": 97,
   "id": "65f9c220",
   "metadata": {},
   "outputs": [],
   "source": [
    "song_test = test_df[\"itemID\"].to_numpy()\n",
    "member_test =  test_df[\"userID\"].to_numpy()\n",
    "source_test =  test_df[\"source_id\"].to_numpy()\n",
    "artist_test = test_df[\"artist_id\"].to_numpy()\n",
    "songage_test = test_df[\"time_since_firstplay\"].to_numpy()\n",
    "songmin_test = test_df[\"song_minute\"].to_numpy()"
   ]
  },
  {
   "cell_type": "code",
   "execution_count": 101,
   "id": "3900191d",
   "metadata": {},
   "outputs": [],
   "source": [
    "yhat_test = content_based(source_test, artist_test, songage_test, songmin_test, max_songage = p_songage_df[\"time_since_firstplay\"].max())"
   ]
  },
  {
   "cell_type": "code",
   "execution_count": 102,
   "id": "70000e1e",
   "metadata": {},
   "outputs": [],
   "source": [
    "sample_df = pd.read_parquet(\"data/sample_submission.parquet\")\n",
    "sample_df[\"target\"] = yhat_test\n",
    "sample_df.to_csv(\"output/contentbased.csv\", index = False)"
   ]
  },
  {
   "cell_type": "code",
   "execution_count": 103,
   "id": "6c97d1f9",
   "metadata": {},
   "outputs": [
    {
     "name": "stdout",
     "output_type": "stream",
     "text": [
      "100.0 % of data is predicted by item bias\n"
     ]
    }
   ],
   "source": [
    "yhat_test2 = content_itembias_mixed(yhat_test, song_test, source_test, mix_rate = 1)"
   ]
  },
  {
   "cell_type": "code",
   "execution_count": 104,
   "id": "1d464e67",
   "metadata": {},
   "outputs": [],
   "source": [
    "sample_df = pd.read_parquet(\"data/sample_submission.parquet\")\n",
    "sample_df[\"target\"] = yhat_test2\n",
    "sample_df.to_csv(\"output/contentbased_songmixed.csv\", index = False)"
   ]
  },
  {
   "cell_type": "markdown",
   "id": "8e26724e",
   "metadata": {},
   "source": [
    "**user bias**"
   ]
  },
  {
   "cell_type": "code",
   "execution_count": 105,
   "id": "1c0337f6",
   "metadata": {},
   "outputs": [
    {
     "name": "stdout",
     "output_type": "stream",
     "text": [
      "100.0 % of data is predicted by user bias\n"
     ]
    }
   ],
   "source": [
    "yhat_test3 = userbias_mixed(yhat_test2,  member_test, source_test, mix_rate=0.5)"
   ]
  },
  {
   "cell_type": "code",
   "execution_count": 106,
   "id": "ff4760fc",
   "metadata": {},
   "outputs": [],
   "source": [
    "sample_df = pd.read_parquet(\"data/sample_submission.parquet\")\n",
    "sample_df[\"target\"] = yhat_test3\n",
    "sample_df.to_csv(\"output/contentbased_userbiasmixed.csv\", index = False)"
   ]
  },
  {
   "cell_type": "markdown",
   "id": "0925dbdc",
   "metadata": {},
   "source": [
    "**svd**"
   ]
  },
  {
   "cell_type": "code",
   "execution_count": 107,
   "id": "e0855dbf",
   "metadata": {},
   "outputs": [
    {
     "name": "stdout",
     "output_type": "stream",
     "text": [
      "66.0 % of data is predicted by collaborative approach\n",
      "calculation time  26.0 sec\n"
     ]
    }
   ],
   "source": [
    "yhat_test4 =  collaborative_mixed(model_svd, yhat_test3,  member_test, song_test, source_test, item_set_svd, user_set_svd, mix_rate = 0.5)"
   ]
  },
  {
   "cell_type": "code",
   "execution_count": 108,
   "id": "54272b1f",
   "metadata": {},
   "outputs": [],
   "source": [
    "sample_df = pd.read_parquet(\"data/sample_submission.parquet\")\n",
    "sample_df[\"target\"] = yhat_test4\n",
    "sample_df.to_csv(\"output/collaborative_contentmixed.csv\", index = False)"
   ]
  },
  {
   "cell_type": "markdown",
   "id": "7c266755",
   "metadata": {},
   "source": [
    "## 6.2 Score\n",
    "\n",
    "As a result, kaggle private score is increased as adding methods just like validation result. AUC is even slightly better than validation, it means that the validation plan was appropriate for this project. "
   ]
  },
  {
   "cell_type": "code",
   "execution_count": 109,
   "id": "f3b82827",
   "metadata": {},
   "outputs": [],
   "source": [
    "methods = [\"feature only content-based (CB)\", \"CB + item bias\", \"CB + item bias + user bias\", \"Hybrid: CB + item bias + user bias + SVD\"]\n",
    "auc_models = [0.62048, 0.62696, 0.66284, 0.6675]\n",
    "kaggle_df = pd.DataFrame({\"method\": methods, \"auc\": auc_models})"
   ]
  },
  {
   "cell_type": "code",
   "execution_count": 115,
   "id": "6c56a801",
   "metadata": {},
   "outputs": [
    {
     "data": {
      "text/plain": [
       "Text(0.5, 1.0, 'Scores')"
      ]
     },
     "execution_count": 115,
     "metadata": {},
     "output_type": "execute_result"
    },
    {
     "data": {
      "image/png": "[encoded data removed]",
      "text/plain": [
       "<Figure size 360x216 with 1 Axes>"
      ]
     },
     "metadata": {
      "needs_background": "light"
     },
     "output_type": "display_data"
    }
   ],
   "source": [
    "fig, ax = plt.subplots(figsize = (5, 3))\n",
    "sns.lineplot(data = result_df, y = \"method\", x = \"auc\", marker = \"o\", label = \"validation auc\")\n",
    "sns.lineplot(data = kaggle_df, y = \"method\", x = \"auc\", marker = \"o\", label = \"kaggle private auc\")\n",
    "ax.set_title(\"Scores\")"
   ]
  },
  {
   "cell_type": "markdown",
   "id": "00700a09",
   "metadata": {},
   "source": [
    "# 7. Conclusion\n",
    "\n",
    "This hybrid system which consists of **feature only content-based**, **item bias**, **user bias**, and **SVD** worked successfully and achieved my target (**auc > 0.66**).\n",
    "\n",
    "In this project, the main problem was data size and memory usage which attribute to large number of unique items and users. Howeber, I noticed that it is unncessesary to create rating matrix of whole users and items, because SVD does not work well for rate items (**cold start problem**). Thus, I decided to combine SVD with content-based approach which fairly works for new items when some features are available.\n",
    "\n",
    "Another finding is efficiency of SVD in `surprise` packages. Generally, svds in popular packages such as `numpy` and `sklearn` requires imputation of NaN values, and this operation blurs features. However, according to the paper[1] which reffered by `surprise`, this SVD mask our unrated item-user pairs by  $R_{i,j}$ for calculating loss. I guess that `surprise` calculte latent features without creating rating matrix. Parhaps that's why the memory usage is much smaller than conventional svds, and better in performance."
   ]
  },
  {
   "cell_type": "markdown",
   "id": "a39e041b",
   "metadata": {},
   "source": [
    "### Reference:\n",
    "\n",
    "[1] Ruslan Salakhutdinov and Andriy Mnih. Probabilistic matrix factorization. 2008. \n",
    "URL: https://papers.nips.cc/paper/3208-probabilistic-matrix-factorization.pdf.\n",
    "\n",
    "[2] Surpsie: Matrix Factorization-based algorithms \n",
    "https://surprise.readthedocs.io/en/stable/matrix_factorization.html"
   ]
  },
  {
   "cell_type": "code",
   "execution_count": null,
   "id": "35783c40",
   "metadata": {},
   "outputs": [],
   "source": []
  }
 ],
 "metadata": {
  "kernelspec": {
   "display_name": "Python 3 (ipykernel)",
   "language": "python",
   "name": "python3"
  },
  "language_info": {
   "codemirror_mode": {
    "name": "ipython",
    "version": 3
   },
   "file_extension": ".py",
   "mimetype": "text/x-python",
   "name": "python",
   "nbconvert_exporter": "python",
   "pygments_lexer": "ipython3",
   "version": "3.9.7"
  }
 },
 "nbformat": 4,
 "nbformat_minor": 5
}
